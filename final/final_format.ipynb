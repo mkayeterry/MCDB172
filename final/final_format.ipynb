{
 "cells": [
  {
   "cell_type": "markdown",
   "metadata": {},
   "source": [
    "# Title"
   ]
  },
  {
   "cell_type": "markdown",
   "metadata": {},
   "source": [
    "## Author"
   ]
  },
  {
   "cell_type": "markdown",
   "metadata": {},
   "source": [
    "## Abstract\n",
    "(150 words) A very short summary of what you did and found and why you did it. "
   ]
  },
  {
   "cell_type": "markdown",
   "metadata": {},
   "source": [
    "## Introduction\n",
    "(500-700 words) Introduce the main ideas, give background on the problem, and discuss why your \n",
    "experiment is significant. Identify the BIG QUESTION. "
   ]
  },
  {
   "cell_type": "markdown",
   "metadata": {},
   "source": [
    "## Methods & Results\n",
    "(600-1200 words)  Show the details of you model, equations, parameters, lattice, results. Justify why \n",
    "you made certain decision. Explain what the outcomes of your experiments are and include figures with captions.  Add an \n",
    "additional computational experiment here for every member of your group. (If you have a large group exceeding the word \n",
    "limit is ok, but not necessary (good scientific communication is concise))"
   ]
  },
  {
   "cell_type": "markdown",
   "metadata": {},
   "source": [
    "## Discussion\n",
    "(500-700 words)  Provide analytical depth to your results. What do your results mean? How do they relate to \n",
    "other results in the field? How might they inform treatment or intervention measures, what further modifications could be \n",
    "made to your model, where should the scientific community go from here? What are some of the limitations to your study? \n",
    "Future directions?"
   ]
  },
  {
   "cell_type": "markdown",
   "metadata": {},
   "source": [
    "## Works Cited\n",
    "No limit."
   ]
  },
  {
   "cell_type": "markdown",
   "metadata": {},
   "source": [
    "## Supplemental Code\n",
    "Provide a well-commented python notebook that can generate every figure in your main article. "
   ]
  },
  {
   "cell_type": "markdown",
   "metadata": {},
   "source": []
  }
 ],
 "metadata": {
  "kernelspec": {
   "display_name": "Python 3.10.5 64-bit",
   "language": "python",
   "name": "python3"
  },
  "language_info": {
   "name": "python",
   "version": "3.10.5"
  },
  "orig_nbformat": 4,
  "vscode": {
   "interpreter": {
    "hash": "aee8b7b246df8f9039afb4144a1f6fd8d2ca17a180786b69acc140d282b71a49"
   }
  }
 },
 "nbformat": 4,
 "nbformat_minor": 2
}
