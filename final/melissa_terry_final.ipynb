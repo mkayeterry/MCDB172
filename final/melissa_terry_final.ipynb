{
 "cells": [
  {
   "cell_type": "markdown",
   "metadata": {},
   "source": [
    "# <p style=\"text-align: center;\">Systematic Variation of Resistant Cells to Identify Asymptomatic Disease Thresholds in Influenza A Virus Infection</p>"
   ]
  },
  {
   "cell_type": "markdown",
   "metadata": {},
   "source": [
    "### Melissa Terry\n",
    "*MCDB 172* <br />\n",
    "*University of California, Santa Barbara* <br />\n",
    "*23 March 2023*"
   ]
  },
  {
   "cell_type": "markdown",
   "metadata": {},
   "source": [
    "---------------------\n",
    "### **Abstract**\n",
    "This study utilizes a dynamical model of the human immune response to influenza A virus infection developed by ***Hancioglu et al.*** to investigate how variation in immune response affects disease severity. The study aims to determine the level of cellular resistance at which disease becomes asymptomatic by systematically varying the level of resistant cells and analyzing the resulting disease outcomes using Python simulations. The goal of the study is to provide insight into the immune mechanisms that underlie disease progression and identify potential targets for intervention, particularly in the design and implementation of effective vaccination strategies. By exploring the complex dynamics of the host-pathogen interaction, this approach can be applied to a range of infectious diseases, offering a powerful tool for understanding disease transmission and control. <br />\n",
    "\n",
    "---------------------"
   ]
  },
  {
   "cell_type": "markdown",
   "metadata": {},
   "source": [
    "### **Introduction**\n",
    "(500-700 words) Introduce the main ideas, give background on the problem, and discuss why your \n",
    "experiment is significant. Identify the BIG QUESTION. \n",
    "\n",
    "\n",
    "Influenza A virus&mdash;of the family *Orthomyxoviridae*&mdash;continues to pose a serious threat to public health, causing seasonal epidemics that result in over 650,000 deaths per year (Lee & Ryu, 2021). Influenza A virus (IAV) is a single stranded, negative sense RNA virus&mdash;class V of the Baltimore classification system. IAV is of particular interest, as it is known to undergo antigenic shifts and drifts, where its surface glycoproteins, hemagglutinin, and neuraminidase undergo periodic mutations (Moghadami, 2016). This constant antigenic evolution is due to the segmented nature of its genome, which makes it highly susceptible to genetic reassortment and allows the virus to evade host immune responses. Such genetic reassortment additionally enables animal and human strains to converge and circulate, resulting in intermittent pandemics causing morbidity, mortality, and economic disruption at a global level (Hancioglu et al., 2007). The significant variation in IAV strains from one season to another has made it difficult to develop effective strategies for prevention and control. To address this issue, it is essential to understand the complex dynamics between the virus and the human immune response.\n",
    ">\n",
    "In recent years, mathematical models have become indispensable in studying the dynamics of infectious disease transmission at both the cellular and population levels. At the cellular level, such models allow for the prediction of disease severity and the efficacy of interventions. Among these models, dynamical systems provide a means of investigating the complex mechanisms that underlie host-pathogen interactions. By capturing the temporal changes in the host and pathogen populations, these models offer insight into the potential impact of intervention&mdash;enabling the development of targeted strategies for disease control and damage reduction. This study utilizes a system of ordinary differential equations formulated by *Hancioglu et al.*, which together model the human immune response to IAV infection. The system of equations The immune response to viral infection is complex, and it is important to note that the differential equations presented here do not wholly encompass the complexity of the human immune system and may not reflect the full range of immunological responses. Nonetheless, the model provides a useful framework for exploring how variation in immune response affects disease outcomes and identifying potential targets for intervention. Further experimentation presented in this study aims to shift focus to effectiveness of intervention, and thresholds necessary for reduced expression of disease. \n",
    ">\n",
    "# need to rewrite...\n",
    "In response to IAV infection, the immune system of the host initiates a cascade of defense mechanisms, including both the innate and adaptive immune responses. The innate immune response is mediated by interferons, which are a group of signaling proteins that are secreted by infected cells to alert neighboring cells of the presence of the virus. Interferons induce an antiviral state in neighboring cells, making them resistant to viral infection. Innate immune cells, such as natural killer cells, macrophages, and dendritic cells, also play an important role in the early response to influenza A virus infection by detecting and eliminating infected cells. The adaptive immune response is initiated by the activation of T and B cells, which recognize and target specific viral antigens. Upon activation, B cells differentiate into plasma cells, which produce and secrete virus-specific antibodies that neutralize the virus and prevent its spread. Meanwhile, T cells are responsible for eliminating infected cells and providing long-term protection against future infections. The presence of resistant cells in the host is an important factor in controlling influenza A virus infection, as they can limit the spread of the virus and reduce disease severity.\n"
   ]
  },
  {
   "cell_type": "markdown",
   "metadata": {},
   "source": [
    "### **Methods & Results**\n",
    "(600-1200 words)  Show the details of you model, equations, parameters, lattice, results. Justify why \n",
    "you made certain decision. Explain what the outcomes of your experiments are and include figures with captions.  Add an \n",
    "additional computational experiment here for every member of your group. (If you have a large group exceeding the word \n",
    "limit is ok, but not necessary (good scientific communication is concise))\n",
    "\n",
    "### Variable Descriptions Used in Dynamical Model\n",
    "\n",
    "Variable|Description\n",
    ":-------|:----------\n",
    "V|Viral load per epithelial cell\n",
    "H|Proportion of healthy cells\n",
    "I|Proportion of infected cells \n",
    "M|Activated antigen presenting cells per homeostatic level\n",
    "F|Interferons per homeostatic level of macrophages\n",
    "R|Proportion of resistant cells\n",
    "E|Effector cells per homeostatic level \n",
    "P|Plasma cells per homeostatic level\n",
    "A|Antibodies per homeostatic level \n",
    "S|Antigenic distance\n",
    "\n",
    "<br />\n",
    "\n",
    "### Parameter Descriptions and Values for Differential Equations\n",
    "\n",
    "Parameter|Value|Description\n",
    ":--------|:---:|:----------\n",
    "$\\gamma_{V}$|510|Rate constant of influenza A virus (IAV) particles secretion per infected epithelial cells\n",
    "$\\gamma_{VA}$|619.2|Rate constant of neutralization of IAV by antibodies\n",
    "$\\gamma_{VH}$|1.02|Rate constant of adsorption of IAV by infected epithelial cells\n",
    "$alpha_{V}$|1.7|Rate constant of nonspecific IAV removal\n",
    "$a_{V1}$|100|Rate constant of nonspecific IAV removal\n",
    "$a_{V2}$|23000|Rate constant of nonspecific IAV removal\n",
    "$b_{HD}$|4|Rate constant of regeneration of epithelial cells\n",
    "$a_{R}$|1|Rate constant of epithelial cells’ virus resistance state decay\n",
    "$\\gamma_{HV}$|0.34|Rate constant of epithelial cells infected by IAV\n",
    "$b_{HF}$|0.01|Rate constant of epithelial cells’ virus resistant state induction\n",
    "$b_{IE}$|0.066|Rate constant of infected epithelial cells that CTL damage\n",
    "$a_{I}$|1.5|Rate constant of infected epithelial cells damage by cytopathicity of IAV\n",
    "$b_{MD}$|1|Rate constant of stimulation of antigen presenting cells by dead cells\n",
    "$b_{MV}$|0.0037|Rate constant of stimulation of antigen presenting cells by virus particles\n",
    "$a_{M}$|1|Rate constant of stimulated state loss of antigen presenting cells\n",
    "$b_{F}$|250000|Interferon (IFN) production rate per APC\n",
    "$c_{F}$|2000|Interferon (IFN) production rate per infected cell\n",
    "$b_{FH}$|17|Rate constant of epithelial cells that IFN binds\n",
    "$a_{F}$|8|Rate constant of IFN’s natural decay\n",
    "$b_{EM}$|8.8|Rate constant of stimulation of effector cells\n",
    "$b_{EI}$|2.72|Rate constant of death of effectors by lytic interactions with infected epithelial cells\n",
    "$a_{E}$|0.4|Rate constant of natural death of effector cells\n",
    "$b_{PM}$|11.5|Rate constant of plasma cells production\n",
    "$a_{P}$|0.4|Rate constant of natural death of plasma cells\n",
    "$b_{A}$|0.043|Antibody production rate per plasma cells \n",
    "$\\gamma_{AV}$|146.2|Rate constant of antibodies which binds to IAV\n",
    "$a_{A}$|0.043|Rate constant of natural death of antibodies\n",
    "$r$|3e-5|Rate constant for S variable"
   ]
  },
  {
   "cell_type": "markdown",
   "metadata": {},
   "source": [
    "### **Discussion**\n",
    "(500-700 words)  Provide analytical depth to your results. What do your results mean? How do they relate to \n",
    "other results in the field? How might they inform treatment or intervention measures, what further modifications could be \n",
    "made to your model, where should the scientific community go from here? What are some of the limitations to your study? \n",
    "Future directions?"
   ]
  },
  {
   "cell_type": "markdown",
   "metadata": {},
   "source": [
    "### **Works Cited**\n",
    "Hancioglu, B., Swigon, D., &amp; Clermont, G. (2007). *A dynamical model of human immune response* \n",
    "> *to influenza A virus infection*. Journal of Theoretical Biology, 246(1), 70–86. \n",
    "\n",
    "Lee, S. J., &amp; Ryu, J.-H. (2021). *Influenza viruses: Innate immunity and mrna vaccines*. Frontiers in \n",
    "> Immunology, 12. \n",
    "\n",
    "Moghadami, M. (2016). *A Narrative Review of Influenza: A Seasonal and Pandemic Disease*. Iranian \n",
    "> Journal of Medical Sciences, 42, 2 - 13.\n",
    "\n",
    "\n",
    "\n"
   ]
  },
  {
   "cell_type": "markdown",
   "metadata": {},
   "source": [
    "### Supplemental Code\n",
    "Provide a well-commented python notebook that can generate every figure in your main article. "
   ]
  },
  {
   "cell_type": "markdown",
   "metadata": {},
   "source": []
  }
 ],
 "metadata": {
  "kernelspec": {
   "display_name": "Python 3.10.5 64-bit",
   "language": "python",
   "name": "python3"
  },
  "language_info": {
   "name": "python",
   "version": "3.10.5"
  },
  "orig_nbformat": 4,
  "vscode": {
   "interpreter": {
    "hash": "aee8b7b246df8f9039afb4144a1f6fd8d2ca17a180786b69acc140d282b71a49"
   }
  }
 },
 "nbformat": 4,
 "nbformat_minor": 2
}
