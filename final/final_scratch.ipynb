{
 "cells": [
  {
   "cell_type": "markdown",
   "metadata": {},
   "source": [
    "#### EXOTIC SPECIES:\n",
    "* Sus scrofa - feral pig\n",
    "#### APEX PREDATOR:\n",
    "* Aquila chrysaetos - golden eagle\n",
    "#### ENDEMIC CARNIVORES:\n",
    "* Urocyon littoralis - island fox\n",
    "* Spilogale gracilis amphiala - island spotted skunk"
   ]
  },
  {
   "cell_type": "markdown",
   "metadata": {},
   "source": [
    "\"By acting as an abundant prey, pigs enabled native, mainland golden eagles to colonize the California Channel Islands, and through hyperpredation, indirectly caused a rapid decline in the native fox populations (15). This colonization event not only restructured the trophic hierarchy on the islands—eagles became the apex predator and both the fox and the skunk became prey—but it also altered the competitive relations between the fox and the skunk and caused a radical change in the carnivore community.\""
   ]
  },
  {
   "cell_type": "markdown",
   "metadata": {},
   "source": []
  },
  {
   "cell_type": "markdown",
   "metadata": {},
   "source": [
    "### Field metabolic rates:\n",
    "* Foxes:\n",
    "    * males - 1,426.1 kJ/day\n",
    "    * females - 1,310.2 kJ/day\n",
    "* Skunks:\n",
    "    * males - 527.0 kJ/day\n",
    "    * females - 438.9 kJ/day"
   ]
  },
  {
   "cell_type": "markdown",
   "metadata": {},
   "source": [
    "* Allometry\n",
    "    * Fox:\n",
    "        * male = 2.00 +- 0.23 kg, n = 77\n",
    "        * female = 1.81 +- 0.22 kg, n = 77\n",
    "    * Skunk: \n",
    "        * male = 620 +- 40 g, n = 5\n",
    "        * female = 500 +- 40 g, n = 4"
   ]
  },
  {
   "cell_type": "markdown",
   "metadata": {},
   "source": [
    "* Daily food consumption [gram of dry matter (DM) per day]\n",
    "    * by using estimates of metabolizable energy:\n",
    "        * for omnivores (14.0 kJ/g of DM)\n",
    "        * for carnivores (16.8 kJ/g of DM)"
   ]
  },
  {
   "cell_type": "markdown",
   "metadata": {},
   "source": [
    "* Fresh animal matter (FM) consumed:\n",
    "    * 3.33 g FM = 1 g DM\n",
    "        * by a pair of foxes - 500.58 g FM/day\n",
    "        * by a pair of skunks - 181.58 g FM/day)"
   ]
  },
  {
   "cell_type": "markdown",
   "metadata": {},
   "source": [
    "### Relative index of animal food in the diet of:\n",
    "* Fox - 0.77 animal and 0.23 plant\n",
    "* Skunks - assumed completely carnivorous"
   ]
  },
  {
   "cell_type": "markdown",
   "metadata": {},
   "source": []
  },
  {
   "cell_type": "code",
   "execution_count": 9,
   "metadata": {},
   "outputs": [],
   "source": [
    "## Variables:\n",
    "\n",
    "# E = golden eagle (predator)\n",
    "E = 1 # placeholder\n",
    "\n",
    "# F = fox (prey)\n",
    "F = 1 # placeholder\n",
    "F0 = 1312\n",
    "\n",
    "# S = skunk (prey)\n",
    "S = 1 # placeholder\n",
    "S0 = 1000\n",
    "\n",
    "# P = piglet (prey)\n",
    "P = 1 # placeholder\n",
    "P0 = 13827\n",
    "\n",
    "# r_i = instrinsic growth rate\n",
    "r_f = 0.32\n",
    "r_p = 0.78\n",
    "r_s = r_f\n",
    "\n",
    "# K_i = carrying capacity\n",
    "K_f = 1544\n",
    "K_s = 2490\n",
    "K_p = 15189\n",
    "\n",
    "# beta_ij = measure of energetic resource competition between foxes and skunks only\n",
    "beta_sf = 500.48 / 181.58\n",
    "beta_fs = 181.58 / 500.48\n",
    "\n",
    "# mu_i = predation rate by eagles\n",
    "    # Eagles kill ~132.1 prey per year or 0.34 foxes (or piglets) per day outside of the 70-day breeding season, and 0.45 during the breeding season\n",
    "mu_f = 0.086\n",
    "mu_p = 0.019\n",
    "mu_s = 0.159\n",
    "\n",
    "# phi = term of eagle preference for foxes\n",
    "phi = 8.1\n",
    "\n",
    "# sigma = term of eagle preference for skunks relative to piglets\n",
    "    #  If phi or sigma is greater than 1, eagles prey more often on foxes or skunks than on piglets, respectively\n",
    "sigma = 3.1\n",
    "\n",
    "# nu = eagle mortality rate\n",
    "nu = 0.09\n",
    "\n",
    "# lambda_i = the rate at which prey i are turned into new predators\n",
    "lambda_f = 7.7e-4\n",
    "lambda_p = 7.7e-4\n",
    "lambda_s = 2.5e-4\n",
    "\n",
    "# tau = the time necessary for a pair of eagles to produce an adult eagle (comparable to a generation time of 5 years)\n"
   ]
  },
  {
   "cell_type": "code",
   "execution_count": 10,
   "metadata": {},
   "outputs": [],
   "source": [
    "## Differential Equations\n",
    "dFdt = ( r_f * F * (1 - ((F + (beta_fs * S)) / K_f)) ) - ( mu_f * ((phi * F) / ((phi * F) + (sigma * S) + P)) * E * F )\n",
    "dSdt = ( r_s * S * (1 - ((S + (beta_sf * F)) / K_s)) ) - ( mu_s * ((sigma * S) / ((phi * F) + (sigma * S) + P)) * E * S )\n",
    "dPdt = ( r_p * P * (1 - (P / K_p)) ) - ( mu_p * (P / ((phi * F) + (sigma * S) + P)) * E * P )\n",
    "dEdt = (((lambda_f * mu_f * phi * (F**2)) + (lambda_s * mu_s * sigma * (S**2)) + (lambda_p * mu_p * (P**2)) * E) / ((phi * F) + (sigma * S) + P)) - (nu * E)"
   ]
  },
  {
   "cell_type": "code",
   "execution_count": null,
   "metadata": {},
   "outputs": [],
   "source": []
  }
 ],
 "metadata": {
  "kernelspec": {
   "display_name": "Python 3.10.5 64-bit",
   "language": "python",
   "name": "python3"
  },
  "language_info": {
   "codemirror_mode": {
    "name": "ipython",
    "version": 3
   },
   "file_extension": ".py",
   "mimetype": "text/x-python",
   "name": "python",
   "nbconvert_exporter": "python",
   "pygments_lexer": "ipython3",
   "version": "3.10.5"
  },
  "orig_nbformat": 4,
  "vscode": {
   "interpreter": {
    "hash": "aee8b7b246df8f9039afb4144a1f6fd8d2ca17a180786b69acc140d282b71a49"
   }
  }
 },
 "nbformat": 4,
 "nbformat_minor": 2
}
