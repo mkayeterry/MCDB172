{
 "cells": [
  {
   "cell_type": "markdown",
   "metadata": {},
   "source": [
    "#### EXOTIC SPECIES:\n",
    "* Sus scrofa - feral pig\n",
    "#### APEX PREDATOR:\n",
    "* Aquila chrysaetos - golden eagle\n",
    "#### ENDEMIC CARNIVORES:\n",
    "* Urocyon littoralis - island fox\n",
    "* Spilogale gracilis amphiala - island spotted skunk"
   ]
  },
  {
   "cell_type": "markdown",
   "metadata": {},
   "source": [
    "\"By acting as an abundant prey, pigs enabled native, mainland golden eagles to colonize the California Channel Islands, and through hyperpredation, indirectly caused a rapid decline in the native fox populations (15). This colonization event not only restructured the trophic hierarchy on the islands—eagles became the apex predator and both the fox and the skunk became prey—but it also altered the competitive relations between the fox and the skunk and caused a radical change in the carnivore community.\""
   ]
  },
  {
   "cell_type": "markdown",
   "metadata": {},
   "source": []
  },
  {
   "cell_type": "markdown",
   "metadata": {},
   "source": [
    "### Field metabolic rates:\n",
    "* Foxes:\n",
    "    * males - 1,426.1 kJ/day\n",
    "    * females - 1,310.2 kJ/day\n",
    "* Skunks:\n",
    "    * males - 527.0 kJ/day\n",
    "    * females - 438.9 kJ/day"
   ]
  },
  {
   "cell_type": "markdown",
   "metadata": {},
   "source": [
    "* Allometry\n",
    "    * Fox:\n",
    "        * male = 2.00 +- 0.23 kg, n = 77\n",
    "        * female = 1.81 +- 0.22 kg, n = 77\n",
    "    * Skunk: \n",
    "        * male = 620 +- 40 g, n = 5\n",
    "        * female = 500 +- 40 g, n = 4"
   ]
  },
  {
   "cell_type": "markdown",
   "metadata": {},
   "source": [
    "* Daily food consumption [gram of dry matter (DM) per day]\n",
    "    * by using estimates of metabolizable energy:\n",
    "        * for omnivores (14.0 kJ/g of DM)\n",
    "        * for carnivores (16.8 kJ/g of DM)"
   ]
  },
  {
   "cell_type": "markdown",
   "metadata": {},
   "source": [
    "* Fresh animal matter (FM) consumed:\n",
    "    * 3.33 g FM = 1 g DM\n",
    "        * by a pair of foxes - 500.58 g FM/day\n",
    "        * by a pair of skunks - 181.58 g FM/day)"
   ]
  },
  {
   "cell_type": "markdown",
   "metadata": {},
   "source": [
    "### Relative index of animal food in the diet of:\n",
    "* Fox - 0.77 animal and 0.23 plant\n",
    "* Skunks - assumed completely carnivorous"
   ]
  },
  {
   "cell_type": "markdown",
   "metadata": {},
   "source": []
  },
  {
   "cell_type": "markdown",
   "metadata": {},
   "source": [
    "## Variables:\n",
    "* beta_sf - resource competition between skunks and foxes\n",
    "    * 500.48 / 181.58 = 2.76\n",
    "* beta_fs = resource competition between foxes and skunks\n",
    "    * 181.58 / 500.48 = 0.36\n",
    "* E = golden eagle\n",
    "* F = skunk\n",
    "* P = piglet\n",
    "\n"
   ]
  },
  {
   "cell_type": "markdown",
   "metadata": {},
   "source": []
  },
  {
   "cell_type": "markdown",
   "metadata": {},
   "source": []
  }
 ],
 "metadata": {
  "kernelspec": {
   "display_name": "Python 3.10.5 64-bit",
   "language": "python",
   "name": "python3"
  },
  "language_info": {
   "name": "python",
   "version": "3.10.5"
  },
  "orig_nbformat": 4,
  "vscode": {
   "interpreter": {
    "hash": "aee8b7b246df8f9039afb4144a1f6fd8d2ca17a180786b69acc140d282b71a49"
   }
  }
 },
 "nbformat": 4,
 "nbformat_minor": 2
}
