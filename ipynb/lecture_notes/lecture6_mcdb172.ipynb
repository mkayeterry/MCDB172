{
 "cells": [
  {
   "cell_type": "markdown",
   "metadata": {},
   "source": [
    "# Leveraging the Matrix Manipulation Capabilities of Python\n",
    "* Look at all of the basic functions in the linalg toolbox\n",
    "* Application of these tools to \"population dynamics\""
   ]
  },
  {
   "cell_type": "code",
   "execution_count": 2,
   "metadata": {},
   "outputs": [
    {
     "name": "stdout",
     "output_type": "stream",
     "text": [
      "[[1 1]\n",
      " [7 7]]\n",
      "(2, 2)\n"
     ]
    }
   ],
   "source": [
    "import numpy as np\n",
    "\n",
    "A = np.array([[1,1], [7,7]])\n",
    "\n",
    "print(A)\n",
    "print(A.shape)"
   ]
  },
  {
   "cell_type": "code",
   "execution_count": 3,
   "metadata": {},
   "outputs": [
    {
     "name": "stdout",
     "output_type": "stream",
     "text": [
      "A = [[1 1]\n",
      " [7 7]]\n",
      "A transpose = [[1 7]\n",
      " [1 7]]\n"
     ]
    }
   ],
   "source": [
    "# Switch rows and columns\n",
    "At = np.transpose(A)\n",
    "\n",
    "print(f'A = {A}')\n",
    "print(f'A transpose = {At}')"
   ]
  },
  {
   "cell_type": "code",
   "execution_count": 6,
   "metadata": {},
   "outputs": [
    {
     "name": "stdout",
     "output_type": "stream",
     "text": [
      "element-by-element = [[ 3 -2]\n",
      " [-1  2]]\n",
      "matrix mulitiplication = [[1 1]\n",
      " [1 1]]\n",
      "matmul shortcut = [[1 1]\n",
      " [1 1]]\n"
     ]
    }
   ],
   "source": [
    "# Matrix Multiplication\n",
    "\n",
    "A = np.array([[1,2], [1,2]])\n",
    "B = np.array([[3, -1], [-1,1]])\n",
    "\n",
    "print(f'element-by-element = {A*B}')\n",
    "print(f'matrix mulitiplication = {np.matmul(A,B)}')\n",
    "print(f'matmul shortcut = {A @ B}')"
   ]
  },
  {
   "cell_type": "code",
   "execution_count": 9,
   "metadata": {},
   "outputs": [
    {
     "data": {
      "text/plain": [
       "array([[1., 0., 0., 0., 0., 0., 0., 0., 0., 0.],\n",
       "       [0., 1., 0., 0., 0., 0., 0., 0., 0., 0.],\n",
       "       [0., 0., 1., 0., 0., 0., 0., 0., 0., 0.],\n",
       "       [0., 0., 0., 1., 0., 0., 0., 0., 0., 0.],\n",
       "       [0., 0., 0., 0., 1., 0., 0., 0., 0., 0.],\n",
       "       [0., 0., 0., 0., 0., 1., 0., 0., 0., 0.],\n",
       "       [0., 0., 0., 0., 0., 0., 1., 0., 0., 0.],\n",
       "       [0., 0., 0., 0., 0., 0., 0., 1., 0., 0.],\n",
       "       [0., 0., 0., 0., 0., 0., 0., 0., 1., 0.],\n",
       "       [0., 0., 0., 0., 0., 0., 0., 0., 0., 1.]])"
      ]
     },
     "execution_count": 9,
     "metadata": {},
     "output_type": "execute_result"
    }
   ],
   "source": [
    "# Identity Matrix (will be useful for SVD)\n",
    "\n",
    "I = np.eye(10)\n",
    "I"
   ]
  },
  {
   "cell_type": "code",
   "execution_count": 10,
   "metadata": {},
   "outputs": [
    {
     "name": "stdout",
     "output_type": "stream",
     "text": [
      "B^-1 = [[0.5 0.5]\n",
      " [0.5 1.5]]\n"
     ]
    }
   ],
   "source": [
    "# Taking the inverse of a maatrix \n",
    "\n",
    "Binv = np.linalg.inv(B)\n",
    "\n",
    "print(f'B^-1 = {Binv}')"
   ]
  },
  {
   "cell_type": "code",
   "execution_count": 12,
   "metadata": {},
   "outputs": [
    {
     "data": {
      "text/plain": [
       "array([[ 1.00000000e+00, -2.22044605e-16],\n",
       "       [-1.11022302e-16,  1.00000000e+00]])"
      ]
     },
     "execution_count": 12,
     "metadata": {},
     "output_type": "execute_result"
    }
   ],
   "source": [
    "# multiplying a matrix by its inverse gives us the identity matrix\n",
    "B @ Binv"
   ]
  },
  {
   "cell_type": "code",
   "execution_count": 14,
   "metadata": {},
   "outputs": [
    {
     "name": "stdout",
     "output_type": "stream",
     "text": [
      "v transformed by matrix B = [[2]\n",
      " [0]]\n",
      "reverse transformation = [[1.]\n",
      " [1.]]\n"
     ]
    }
   ],
   "source": [
    "v = [[1], [1]]\n",
    "\n",
    "print(f'v transformed by matrix B = {B @ v}')\n",
    "\n",
    "v_prime = B @ v\n",
    "\n",
    "print(f'reverse transformation = {Binv @ v_prime}')"
   ]
  },
  {
   "cell_type": "code",
   "execution_count": 15,
   "metadata": {},
   "outputs": [
    {
     "data": {
      "text/plain": [
       "array([[2, 0],\n",
       "       [0, 2]])"
      ]
     },
     "execution_count": 15,
     "metadata": {},
     "output_type": "execute_result"
    }
   ],
   "source": [
    "# determinant - inuitive meaning is how much a given matrix transformation stretches a unit of euclidian space\n",
    "# if determ is pos, you can see how it is stretching space\n",
    "\n",
    "A = np.array([[2, 0], [0,2]])\n",
    "A"
   ]
  },
  {
   "cell_type": "code",
   "execution_count": 16,
   "metadata": {},
   "outputs": [
    {
     "data": {
      "text/plain": [
       "4.0"
      ]
     },
     "execution_count": 16,
     "metadata": {},
     "output_type": "execute_result"
    }
   ],
   "source": [
    "np.linalg.det(A)"
   ]
  },
  {
   "cell_type": "code",
   "execution_count": 18,
   "metadata": {},
   "outputs": [
    {
     "data": {
      "text/plain": [
       "7.999999999999998"
      ]
     },
     "execution_count": 18,
     "metadata": {},
     "output_type": "execute_result"
    }
   ],
   "source": [
    "# in 3D we will stretch space by 2^3 for a 2 diag matrix \n",
    "A = 2*np.eye(3)\n",
    "\n",
    "np.linalg.det(A)"
   ]
  },
  {
   "cell_type": "code",
   "execution_count": 20,
   "metadata": {},
   "outputs": [
    {
     "name": "stdout",
     "output_type": "stream",
     "text": [
      "[[0 0]\n",
      " [1 2]]\n"
     ]
    }
   ],
   "source": [
    "# Matrix rank - tells us how many dimensions the row space will span\n",
    "\n",
    "import matplotlib.pyplot as plt\n",
    "\n",
    "B = np.array([[0, 0], [1, 2]])\n",
    "\n",
    "print(B)"
   ]
  },
  {
   "cell_type": "code",
   "execution_count": 21,
   "metadata": {},
   "outputs": [
    {
     "data": {
      "text/plain": [
       "<matplotlib.quiver.Quiver at 0x10ee69840>"
      ]
     },
     "execution_count": 21,
     "metadata": {},
     "output_type": "execute_result"
    },
    {
     "data": {
      "image/png": "[encoded data removed]",
      "text/plain": [
       "<Figure size 640x480 with 1 Axes>"
      ]
     },
     "metadata": {},
     "output_type": "display_data"
    }
   ],
   "source": [
    "origin = np.zeros(2)\n",
    "\n",
    "x_pos = B [0,:]\n",
    "y_pos = B[1,:]\n",
    "\n",
    "plt.quiver(origin, origin, x_pos, y_pos, color = ['r', 'b'], scale = 7)"
   ]
  },
  {
   "cell_type": "code",
   "execution_count": 22,
   "metadata": {},
   "outputs": [
    {
     "name": "stdout",
     "output_type": "stream",
     "text": [
      "Rank = 1\n"
     ]
    }
   ],
   "source": [
    "# rank = the number of dimensions needed to describe data points\n",
    "\n",
    "print(f'Rank = {np.linalg.matrix_rank(B)}')"
   ]
  },
  {
   "cell_type": "code",
   "execution_count": 23,
   "metadata": {},
   "outputs": [
    {
     "name": "stdout",
     "output_type": "stream",
     "text": [
      "[[1 0]\n",
      " [1 2]]\n"
     ]
    },
    {
     "data": {
      "text/plain": [
       "<matplotlib.quiver.Quiver at 0x10ef64fd0>"
      ]
     },
     "execution_count": 23,
     "metadata": {},
     "output_type": "execute_result"
    },
    {
     "data": {
      "image/png": "[encoded data removed]",
      "text/plain": [
       "<Figure size 640x480 with 1 Axes>"
      ]
     },
     "metadata": {},
     "output_type": "display_data"
    }
   ],
   "source": [
    "B = np.array([[1, 0], [1, 2]])\n",
    "\n",
    "print(B)\n",
    "\n",
    "origin = np.zeros(2)\n",
    "\n",
    "x_pos = B [0,:]\n",
    "y_pos = B[1,:]\n",
    "\n",
    "plt.quiver(origin, origin, x_pos, y_pos, color = ['r', 'b'], scale = 7)"
   ]
  },
  {
   "cell_type": "code",
   "execution_count": 24,
   "metadata": {},
   "outputs": [
    {
     "name": "stdout",
     "output_type": "stream",
     "text": [
      "Rank = 2\n"
     ]
    }
   ],
   "source": [
    "print(f'Rank = {np.linalg.matrix_rank(B)}')"
   ]
  },
  {
   "cell_type": "code",
   "execution_count": 37,
   "metadata": {},
   "outputs": [
    {
     "name": "stdout",
     "output_type": "stream",
     "text": [
      "[[0 0 1]\n",
      " [0 0 2]\n",
      " [0 0 3]]\n",
      "Rank = 1\n"
     ]
    },
    {
     "data": {
      "image/png": "[encoded data removed]",
      "text/plain": [
       "<Figure size 640x480 with 1 Axes>"
      ]
     },
     "metadata": {},
     "output_type": "display_data"
    }
   ],
   "source": [
    "# create: three dimensional matrix with rank 1, 2, and 3\n",
    "\n",
    "\n",
    "B = np.array([[0, 0, 1], [0, 0, 2], [0, 0, 3]])\n",
    "\n",
    "print(B)\n",
    "\n",
    "origin = np.zeros(3)\n",
    "\n",
    "x_pos = B [0,:]\n",
    "y_pos = B[1,:]\n",
    "z_pos = B[2,:]\n",
    "\n",
    "plt.quiver(origin, origin, x_pos, y_pos, z_pos, color = ['r', 'b', 'g'], scale = 7)\n",
    "print(f'Rank = {np.linalg.matrix_rank(B)}')"
   ]
  },
  {
   "cell_type": "code",
   "execution_count": 32,
   "metadata": {},
   "outputs": [
    {
     "name": "stdout",
     "output_type": "stream",
     "text": [
      "[[2 1 0]\n",
      " [0 1 2]\n",
      " [2 3 4]]\n",
      "Rank = 2\n"
     ]
    },
    {
     "data": {
      "image/png": "[encoded data removed]",
      "text/plain": [
       "<Figure size 640x480 with 1 Axes>"
      ]
     },
     "metadata": {},
     "output_type": "display_data"
    }
   ],
   "source": [
    "\n",
    "\n",
    "B = np.array([[2, 1, 0], [0, 1, 2], [2, 3, 4]])\n",
    "\n",
    "print(B)\n",
    "\n",
    "origin = np.zeros(3)\n",
    "\n",
    "x_pos = B [0,:]\n",
    "y_pos = B[1,:]\n",
    "z_pos = B[2,:]\n",
    "\n",
    "plt.quiver(origin, origin, x_pos, y_pos, z_pos, color = ['r', 'b', 'g'], scale = 7)\n",
    "print(f'Rank = {np.linalg.matrix_rank(B)}')\n"
   ]
  },
  {
   "cell_type": "code",
   "execution_count": 41,
   "metadata": {},
   "outputs": [
    {
     "name": "stdout",
     "output_type": "stream",
     "text": [
      "[[1 0 0]\n",
      " [0 1 0]\n",
      " [0 0 1]]\n",
      "Rank = 3\n"
     ]
    },
    {
     "data": {
      "image/png": "[encoded data removed]",
      "text/plain": [
       "<Figure size 640x480 with 1 Axes>"
      ]
     },
     "metadata": {},
     "output_type": "display_data"
    }
   ],
   "source": [
    "B = np.array([[1, 0, 0], [0, 1, 0], [0, 0, 1]])\n",
    "\n",
    "print(B)\n",
    "\n",
    "origin = np.zeros(3)\n",
    "\n",
    "x_pos = B [0,:]\n",
    "y_pos = B[1,:]\n",
    "z_pos = B[2,:]\n",
    "\n",
    "plt.quiver(origin, origin, x_pos, y_pos, z_pos, color = ['r', 'b', 'g'], scale = 7)\n",
    "print(f'Rank = {np.linalg.matrix_rank(B)}')\n"
   ]
  },
  {
   "cell_type": "code",
   "execution_count": 43,
   "metadata": {},
   "outputs": [
    {
     "name": "stdout",
     "output_type": "stream",
     "text": [
      "eigenvectors = [[ 0.70710678 -0.70710678]\n",
      " [ 0.70710678  0.70710678]]\n",
      "eigenvalues = [3. 1.]\n"
     ]
    }
   ],
   "source": [
    "# Eigenvectors and eigenvalues\n",
    "# Numpy's function which returns the normalized (unit \"length\") eigenvector, \n",
    "# such that the column evec[:, i] is the eigenvector corresponding to the ith eigenvalue\n",
    "\n",
    "A = np.array([[2, 1], [1, 2]])\n",
    "\n",
    "evals, evecs = np.linalg.eig(A)\n",
    "\n",
    "# note that the outputs are orthogonal to one another\n",
    "print(f'eigenvectors = {evecs}')\n",
    "print(f'eigenvalues = {evals}')"
   ]
  },
  {
   "cell_type": "code",
   "execution_count": 44,
   "metadata": {},
   "outputs": [
    {
     "data": {
      "text/plain": [
       "0.9999999999999999"
      ]
     },
     "execution_count": 44,
     "metadata": {},
     "output_type": "execute_result"
    }
   ],
   "source": [
    "# always normalized to 1\n",
    "np.linalg.norm(evecs[:,0])"
   ]
  },
  {
   "cell_type": "code",
   "execution_count": 45,
   "metadata": {},
   "outputs": [
    {
     "data": {
      "text/plain": [
       "3.0"
      ]
     },
     "execution_count": 45,
     "metadata": {},
     "output_type": "execute_result"
    }
   ],
   "source": [
    "# trace = sum of diagonal entries\n",
    "\n",
    "np.trace(np.eye(3))"
   ]
  },
  {
   "cell_type": "code",
   "execution_count": null,
   "metadata": {},
   "outputs": [],
   "source": [
    "# iterative/Leslie matrix model - commonly used in population biology\n",
    "\n",
    "# pups <-F1- 1. pups -s1-> 2. young adults -s2-> 3. mature adults -s3-> mature adults\n",
    "#      <-F2-\n",
    "#      <-----------F3------------"
   ]
  },
  {
   "cell_type": "markdown",
   "metadata": {},
   "source": [
    "# Leslie's Matrix Model\n",
    "\n",
    "Can be expressed using matrix multiplication\n",
    "\n",
    "$$\\begin{pmatrix} P1_{N+1} \\\\ P2_{N+1} \\\\ P3_{N+1} \\end{pmatrix} = \n",
    "\\begin{bmatrix} f_1 & f_2 & f_3 \\\\ s_1 & 0 & 0 \\\\ 0 & s_2 & s_3 \n",
    "\\end{bmatrix}\n",
    "\\begin{pmatrix} P1_{N} \\\\ P2_{N} \\\\ P3_{N} \\end{pmatrix}$$"
   ]
  },
  {
   "cell_type": "code",
   "execution_count": 47,
   "metadata": {},
   "outputs": [],
   "source": [
    "# Generate initial conditions\n",
    "InitialConditions = np.array([[10], [30], [20]])\n",
    "\n",
    "# generate rate matrix\n",
    "M = np.array([[0, 1.26, 2], [0.6, 0, 0], [0, 0.8, 0.8]])"
   ]
  },
  {
   "cell_type": "code",
   "execution_count": 48,
   "metadata": {},
   "outputs": [
    {
     "data": {
      "text/plain": [
       "array([[77.8],\n",
       "       [ 6. ],\n",
       "       [40. ]])"
      ]
     },
     "execution_count": 48,
     "metadata": {},
     "output_type": "execute_result"
    }
   ],
   "source": [
    "M @ InitialConditions"
   ]
  },
  {
   "cell_type": "code",
   "execution_count": 49,
   "metadata": {},
   "outputs": [
    {
     "data": {
      "text/plain": [
       "array([[87.56],\n",
       "       [46.68],\n",
       "       [36.8 ]])"
      ]
     },
     "execution_count": 49,
     "metadata": {},
     "output_type": "execute_result"
    }
   ],
   "source": [
    "# what happens after 2 years\n",
    "\n",
    "M @ M @ InitialConditions"
   ]
  },
  {
   "cell_type": "code",
   "execution_count": 50,
   "metadata": {},
   "outputs": [
    {
     "data": {
      "text/plain": [
       "array([[87.56],\n",
       "       [46.68],\n",
       "       [36.8 ]])"
      ]
     },
     "execution_count": 50,
     "metadata": {},
     "output_type": "execute_result"
    }
   ],
   "source": [
    "np.linalg.matrix_power(M, 2) @ InitialConditions"
   ]
  },
  {
   "cell_type": "code",
   "execution_count": 53,
   "metadata": {},
   "outputs": [],
   "source": [
    "def simPop(M, IC, N):\n",
    "    state = IC\n",
    "    for i in range(N):\n",
    "        current = np.linalg.matrix_power(M, i) @ IC\n",
    "        state = np.hstack((state, current))\n",
    "\n",
    "    return state.T"
   ]
  },
  {
   "cell_type": "code",
   "execution_count": 55,
   "metadata": {},
   "outputs": [
    {
     "data": {
      "text/plain": [
       "<matplotlib.legend.Legend at 0x13f0e6800>"
      ]
     },
     "execution_count": 55,
     "metadata": {},
     "output_type": "execute_result"
    },
    {
     "data": {
      "image/png": "[encoded data removed]",
      "text/plain": [
       "<Figure size 640x480 with 1 Axes>"
      ]
     },
     "metadata": {},
     "output_type": "display_data"
    }
   ],
   "source": [
    "state = simPop(M, InitialConditions, 20)\n",
    "plt.plot(state, 'o')\n",
    "plt.legend(['P1', 'P2', 'P3'])\n"
   ]
  },
  {
   "cell_type": "code",
   "execution_count": 56,
   "metadata": {},
   "outputs": [
    {
     "name": "stdout",
     "output_type": "stream",
     "text": [
      "Growth rate estimate = [1.4755137  1.47551369 1.47551371]\n"
     ]
    }
   ],
   "source": [
    "# growth rate estimate\n",
    "\n",
    "growthrate = state[20,:]/state[19,:]\n",
    "print(f'Growth rate estimate = {growthrate}')"
   ]
  },
  {
   "cell_type": "code",
   "execution_count": 58,
   "metadata": {},
   "outputs": [
    {
     "ename": "IndexError",
     "evalue": "index 2 is out of bounds for axis 0 with size 2",
     "output_type": "error",
     "traceback": [
      "\u001b[0;31m---------------------------------------------------------------------------\u001b[0m",
      "\u001b[0;31mIndexError\u001b[0m                                Traceback (most recent call last)",
      "Cell \u001b[0;32mIn [58], line 3\u001b[0m\n\u001b[1;32m      1\u001b[0m \u001b[39meval\u001b[39m, evecs \u001b[39m=\u001b[39m np\u001b[39m.\u001b[39mlinalg\u001b[39m.\u001b[39meig(M)\n\u001b[0;32m----> 3\u001b[0m \u001b[39mprint\u001b[39m(\u001b[39mf\u001b[39m\u001b[39m'\u001b[39m\u001b[39mGrowth rate = \u001b[39m\u001b[39m{\u001b[39;00mevals[\u001b[39m2\u001b[39m]\u001b[39m}\u001b[39;00m\u001b[39m'\u001b[39m)\n",
      "\u001b[0;31mIndexError\u001b[0m: index 2 is out of bounds for axis 0 with size 2"
     ]
    }
   ],
   "source": [
    "eval, evecs = np.linalg.eig(M)\n",
    "\n",
    "print(f'Growth rate = {evals[2]}')"
   ]
  },
  {
   "cell_type": "code",
   "execution_count": null,
   "metadata": {},
   "outputs": [],
   "source": []
  }
 ],
 "metadata": {
  "kernelspec": {
   "display_name": "Python 3.10.5 64-bit",
   "language": "python",
   "name": "python3"
  },
  "language_info": {
   "codemirror_mode": {
    "name": "ipython",
    "version": 3
   },
   "file_extension": ".py",
   "mimetype": "text/x-python",
   "name": "python",
   "nbconvert_exporter": "python",
   "pygments_lexer": "ipython3",
   "version": "3.10.5"
  },
  "orig_nbformat": 4,
  "vscode": {
   "interpreter": {
    "hash": "aee8b7b246df8f9039afb4144a1f6fd8d2ca17a180786b69acc140d282b71a49"
   }
  }
 },
 "nbformat": 4,
 "nbformat_minor": 2
}
