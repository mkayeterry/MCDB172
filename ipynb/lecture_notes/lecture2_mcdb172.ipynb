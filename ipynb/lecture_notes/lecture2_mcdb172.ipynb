{
 "cells": [
  {
   "cell_type": "markdown",
   "metadata": {},
   "source": [
    "# dictionary: an unordered collection of associations\n",
    "    good for storing things, such as codons"
   ]
  },
  {
   "cell_type": "code",
   "execution_count": 3,
   "metadata": {},
   "outputs": [],
   "source": [
    "codons = {'ATG':'Met', 'CTT':'Leu', 'ATT':'Ile', 'GTT': 'Val', 'CGT': 'Arg'}"
   ]
  },
  {
   "cell_type": "code",
   "execution_count": 4,
   "metadata": {},
   "outputs": [
    {
     "data": {
      "text/plain": [
       "'Met'"
      ]
     },
     "execution_count": 4,
     "metadata": {},
     "output_type": "execute_result"
    }
   ],
   "source": [
    "codons['ATG']"
   ]
  },
  {
   "cell_type": "code",
   "execution_count": 5,
   "metadata": {},
   "outputs": [
    {
     "name": "stdout",
     "output_type": "stream",
     "text": [
      "dict_keys(['ATG', 'CTT', 'ATT', 'GTT', 'CGT'])\n"
     ]
    }
   ],
   "source": [
    "print(codons.keys())"
   ]
  },
  {
   "cell_type": "code",
   "execution_count": 7,
   "metadata": {},
   "outputs": [
    {
     "name": "stdout",
     "output_type": "stream",
     "text": [
      "dict_values(['Met', 'Leu', 'Ile', 'Val', 'Arg'])\n"
     ]
    }
   ],
   "source": [
    "print(codons.values())"
   ]
  },
  {
   "cell_type": "code",
   "execution_count": 8,
   "metadata": {},
   "outputs": [
    {
     "name": "stdout",
     "output_type": "stream",
     "text": [
      "dict_items([('ATG', 'Met'), ('CTT', 'Leu'), ('ATT', 'Ile'), ('GTT', 'Val'), ('CGT', 'Arg')])\n"
     ]
    }
   ],
   "source": [
    "print(codons.items())"
   ]
  },
  {
   "cell_type": "markdown",
   "metadata": {},
   "source": [
    "# boolean logic: the idea of representing the notion of something being True or False"
   ]
  },
  {
   "cell_type": "code",
   "execution_count": 9,
   "metadata": {},
   "outputs": [
    {
     "name": "stdout",
     "output_type": "stream",
     "text": [
      "<class 'bool'>\n"
     ]
    }
   ],
   "source": [
    "x = True\n",
    "print(type(x))"
   ]
  },
  {
   "cell_type": "code",
   "execution_count": 10,
   "metadata": {},
   "outputs": [],
   "source": [
    "y = (1 == 2)"
   ]
  },
  {
   "cell_type": "code",
   "execution_count": 11,
   "metadata": {},
   "outputs": [
    {
     "data": {
      "text/plain": [
       "False"
      ]
     },
     "execution_count": 11,
     "metadata": {},
     "output_type": "execute_result"
    }
   ],
   "source": [
    "y"
   ]
  },
  {
   "cell_type": "code",
   "execution_count": 12,
   "metadata": {},
   "outputs": [],
   "source": [
    "z = not(x and y)"
   ]
  },
  {
   "cell_type": "code",
   "execution_count": 13,
   "metadata": {},
   "outputs": [
    {
     "data": {
      "text/plain": [
       "True"
      ]
     },
     "execution_count": 13,
     "metadata": {},
     "output_type": "execute_result"
    }
   ],
   "source": [
    "z"
   ]
  },
  {
   "cell_type": "code",
   "execution_count": 14,
   "metadata": {},
   "outputs": [
    {
     "name": "stdout",
     "output_type": "stream",
     "text": [
      "True\n"
     ]
    }
   ],
   "source": [
    "print(1 == 1.0)"
   ]
  },
  {
   "cell_type": "markdown",
   "metadata": {},
   "source": [
    "# loops"
   ]
  },
  {
   "cell_type": "code",
   "execution_count": 17,
   "metadata": {},
   "outputs": [
    {
     "name": "stdout",
     "output_type": "stream",
     "text": [
      "counter is 0.\n",
      "counter is 1.\n",
      "counter is 2.\n",
      "counter is 3.\n",
      "counter is 4.\n",
      "counter is 5.\n",
      "counter is 6.\n",
      "counter is 7.\n",
      "counter is 8.\n",
      "counter is 9.\n"
     ]
    }
   ],
   "source": [
    "for i in range(0,10):\n",
    "    print(f'counter is {i}.')\n",
    "    #'counter is %d' %(i)"
   ]
  },
  {
   "cell_type": "markdown",
   "metadata": {},
   "source": [
    "use while loops to end sequence after some criteria are met"
   ]
  },
  {
   "cell_type": "code",
   "execution_count": 1,
   "metadata": {},
   "outputs": [
    {
     "name": "stdout",
     "output_type": "stream",
     "text": [
      "[0, 0]\n",
      "[0, 1]\n",
      "[0, 2]\n",
      "[1, 0]\n",
      "[1, 1]\n",
      "[1, 2]\n",
      "[2, 0]\n",
      "[2, 1]\n",
      "[2, 2]\n"
     ]
    }
   ],
   "source": [
    "for i in range(0,3):\n",
    "    for j in range(0,3):\n",
    "        print([i,j])"
   ]
  },
  {
   "cell_type": "markdown",
   "metadata": {},
   "source": [
    "# Looping over a DNA string"
   ]
  },
  {
   "cell_type": "code",
   "execution_count": 3,
   "metadata": {},
   "outputs": [
    {
     "name": "stdout",
     "output_type": "stream",
     "text": [
      "A\n",
      "T\n",
      "A\n",
      "C\n",
      "A\n",
      "G\n",
      "A\n",
      "G\n",
      "A\n",
      "T\n",
      "A\n",
      "C\n"
     ]
    }
   ],
   "source": [
    "seq = 'ATACAGAGATAC'\n",
    "for i in seq:\n",
    "    print(i)"
   ]
  },
  {
   "cell_type": "markdown",
   "metadata": {},
   "source": [
    "# reverse compliment"
   ]
  },
  {
   "cell_type": "code",
   "execution_count": 22,
   "metadata": {},
   "outputs": [
    {
     "name": "stdout",
     "output_type": "stream",
     "text": [
      "TTACAT\n"
     ]
    }
   ],
   "source": [
    "\n",
    "seq = 'ATGTAA'\n",
    "\n",
    "def rev_comp(seq):\n",
    "    comps = {'A':'T', 'C':'G', 'T':'A', 'G':'C'}\n",
    "    rc = ''\n",
    "    for x in seq[::-1]:\n",
    "        rc += comps[x]\n",
    "    return rc\n",
    "\n",
    "print(rev_comp(seq))"
   ]
  },
  {
   "cell_type": "markdown",
   "metadata": {},
   "source": [
    "# the rule of two\n",
    "if you find yourself writing the same piece of code twice, put it into a function"
   ]
  },
  {
   "cell_type": "markdown",
   "metadata": {},
   "source": [
    "# finding patterns with mismatches"
   ]
  },
  {
   "cell_type": "code",
   "execution_count": 29,
   "metadata": {},
   "outputs": [],
   "source": [
    "def PatternCorrect(p, q, N):\n",
    "    k = 0\n",
    "    for x, y in zip(p,q):\n",
    "        if x!= y:\n",
    "            k += 1\n",
    "        if k > N:\n",
    "            return False\n",
    "    return True\n",
    "\n",
    "def ApproximateMatch(genome, query, maxmismatch):\n",
    "    pos = []\n",
    "    gl = len(genome)\n",
    "    ql = len(query)\n",
    "\n",
    "    for i in range(gl - ql):\n",
    "        if PatternCorrect(genome[i:i+ql], query, maxmismatch):\n",
    "            pos = pos + [i]\n",
    "    return pos\n"
   ]
  },
  {
   "cell_type": "code",
   "execution_count": 30,
   "metadata": {},
   "outputs": [
    {
     "data": {
      "text/plain": [
       "[3, 5, 10]"
      ]
     },
     "execution_count": 30,
     "metadata": {},
     "output_type": "execute_result"
    }
   ],
   "source": [
    "ApproximateMatch(\"ATAGAGATACGACAT\", \"GATC\", 2)"
   ]
  },
  {
   "cell_type": "markdown",
   "metadata": {},
   "source": [
    "# generate a random number"
   ]
  },
  {
   "cell_type": "code",
   "execution_count": 31,
   "metadata": {},
   "outputs": [],
   "source": [
    "import random as rd"
   ]
  },
  {
   "cell_type": "code",
   "execution_count": 32,
   "metadata": {},
   "outputs": [
    {
     "data": {
      "text/plain": [
       "'C'"
      ]
     },
     "execution_count": 32,
     "metadata": {},
     "output_type": "execute_result"
    }
   ],
   "source": [
    "rd.choice('AUGC')"
   ]
  },
  {
   "cell_type": "code",
   "execution_count": null,
   "metadata": {},
   "outputs": [],
   "source": []
  }
 ],
 "metadata": {
  "kernelspec": {
   "display_name": "Python 3.10.5 64-bit",
   "language": "python",
   "name": "python3"
  },
  "language_info": {
   "codemirror_mode": {
    "name": "ipython",
    "version": 3
   },
   "file_extension": ".py",
   "mimetype": "text/x-python",
   "name": "python",
   "nbconvert_exporter": "python",
   "pygments_lexer": "ipython3",
   "version": "3.10.5"
  },
  "orig_nbformat": 4,
  "vscode": {
   "interpreter": {
    "hash": "aee8b7b246df8f9039afb4144a1f6fd8d2ca17a180786b69acc140d282b71a49"
   }
  }
 },
 "nbformat": 4,
 "nbformat_minor": 2
}
