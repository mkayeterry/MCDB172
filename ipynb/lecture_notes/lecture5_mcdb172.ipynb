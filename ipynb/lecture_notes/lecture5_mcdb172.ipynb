{
 "cells": [
  {
   "cell_type": "markdown",
   "id": "037ada17-766b-4b88-bda2-e8a090f07478",
   "metadata": {},
   "source": [
    "# 2D Cellular Automata\n",
    "* CAs for short\n",
    "* A CA is a system or cells that \"live\" on a 2D grid (in our case today) universe\n",
    "* In practice, CAs can be any number of dimensions.\n",
    "* These grid configurations can have any kind of connectivity. (Line, square, lattice, hexagonal array)\n",
    "* The Game of Life - a system that exists on a 2D square lattice\n",
    "* Cells on this grid follow \"rules\" which we iterate over through \"generations.\" (time)\n",
    "* Initial conditions determine the final outcome of the Game of Life. Those are in practice 1's and 0's in a 2D array.\n",
    "* The Game of Life 2 discrete states, dead (0) or alive (1)."
   ]
  },
  {
   "cell_type": "markdown",
   "id": "fe039f79-a284-40e9-8521-02e923ee1d0f",
   "metadata": {},
   "source": [
    "# The Rules\n",
    "At each time step, the following transition occurs:\n",
    "1. Any live cell with fewer than two live neighbors dies, as if by underpopulation.\n",
    "2. Any live cell with two or three neighbors lives on to the next generation.\n",
    "3. Any live cell with more than 3 live neighbors dies, as if by overpopulation.\n",
    "4. Any dead cell with exactly 3 live neighbors becomes alive, as if by reproduction."
   ]
  },
  {
   "cell_type": "markdown",
   "id": "63c4cc61-8ec0-4bc8-9e83-5dfb93b2c33a",
   "metadata": {},
   "source": [
    "## Compressed rules\n",
    "1. Any live cell with two or three neighbors survives.\n",
    "2. Any dead cell with three live neighbors become alive.\n",
    "3. All other live cells die in the next generation (implicit rule: all other dead cells stay dead)."
   ]
  },
  {
   "cell_type": "code",
   "execution_count": 1,
   "id": "91145780-346f-496a-ae56-5c30062901be",
   "metadata": {},
   "outputs": [
    {
     "name": "stdout",
     "output_type": "stream",
     "text": [
      "[[0. 0. 0. 0. 0. 0. 0. 0. 0. 0.]\n",
      " [0. 0. 0. 0. 0. 0. 0. 0. 0. 0.]\n",
      " [0. 0. 0. 0. 0. 0. 0. 0. 0. 0.]\n",
      " [0. 0. 0. 0. 0. 0. 0. 0. 0. 0.]\n",
      " [0. 0. 0. 0. 0. 0. 0. 0. 0. 0.]\n",
      " [0. 0. 0. 0. 0. 0. 0. 0. 0. 0.]\n",
      " [0. 0. 0. 0. 0. 0. 0. 0. 0. 0.]\n",
      " [0. 0. 0. 0. 0. 0. 0. 0. 0. 0.]\n",
      " [0. 0. 0. 0. 0. 0. 0. 0. 0. 0.]\n",
      " [0. 0. 0. 0. 0. 0. 0. 0. 0. 0.]]\n",
      "[[1 0 0 0 1 0 1 1 1 0]\n",
      " [1 1 1 0 1 0 0 1 0 0]\n",
      " [1 1 1 1 0 1 0 0 0 0]\n",
      " [0 0 1 1 1 1 0 0 1 0]\n",
      " [0 0 0 1 0 0 1 1 1 0]\n",
      " [1 1 0 0 1 1 1 1 0 0]\n",
      " [0 1 1 0 1 0 0 1 0 1]\n",
      " [0 0 0 1 1 1 1 1 1 1]\n",
      " [0 0 0 1 0 0 1 1 0 0]\n",
      " [1 0 0 0 0 1 0 1 1 0]]\n"
     ]
    }
   ],
   "source": [
    "import numpy as np\n",
    "universe = np.zeros((10,10))\n",
    "print(universe)\n",
    "\n",
    "universe = np.random.randint(2, size = (10,10))\n",
    "print(universe)"
   ]
  },
  {
   "cell_type": "code",
   "execution_count": 6,
   "id": "66efe5cc-278f-42cc-adb9-7fc8736a5bbb",
   "metadata": {},
   "outputs": [
    {
     "data": {
      "text/plain": [
       "<matplotlib.image.AxesImage at 0x7fe9e9562b50>"
      ]
     },
     "execution_count": 6,
     "metadata": {},
     "output_type": "execute_result"
    },
    {
     "data": {
      "image/png": "[encoded data removed]",
      "text/plain": [
       "<Figure size 640x480 with 1 Axes>"
      ]
     },
     "metadata": {},
     "output_type": "display_data"
    }
   ],
   "source": [
    "#Visualize the universe\n",
    "import matplotlib.pyplot as plt\n",
    "plt.imshow(universe, cmap = \"gray\")"
   ]
  },
  {
   "cell_type": "markdown",
   "id": "c038971b-7b57-4258-8162-5466707cbee7",
   "metadata": {},
   "source": [
    "We need to create a loop that allows us to iterate through all of the elements of the universe and apply the rules"
   ]
  },
  {
   "cell_type": "code",
   "execution_count": 17,
   "id": "947211cc-7376-4632-935a-f0d4a008a3e1",
   "metadata": {},
   "outputs": [
    {
     "name": "stdout",
     "output_type": "stream",
     "text": [
      "i = 0 j = 0\n",
      "i = 0 j = 1\n",
      "i = 0 j = 2\n",
      "i = 0 j = 3\n",
      "i = 0 j = 4\n",
      "i = 0 j = 5\n",
      "i = 0 j = 6\n",
      "i = 0 j = 7\n",
      "i = 0 j = 8\n",
      "i = 0 j = 9\n",
      "i = 1 j = 0\n",
      "i = 1 j = 1\n",
      "i = 1 j = 2\n",
      "i = 1 j = 3\n",
      "i = 1 j = 4\n",
      "i = 1 j = 5\n",
      "i = 1 j = 6\n",
      "i = 1 j = 7\n",
      "i = 1 j = 8\n",
      "i = 1 j = 9\n",
      "i = 2 j = 0\n",
      "i = 2 j = 1\n",
      "i = 2 j = 2\n",
      "i = 2 j = 3\n",
      "i = 2 j = 4\n",
      "i = 2 j = 5\n",
      "i = 2 j = 6\n",
      "i = 2 j = 7\n",
      "i = 2 j = 8\n",
      "i = 2 j = 9\n",
      "i = 3 j = 0\n",
      "i = 3 j = 1\n",
      "i = 3 j = 2\n",
      "i = 3 j = 3\n",
      "i = 3 j = 4\n",
      "i = 3 j = 5\n",
      "i = 3 j = 6\n",
      "i = 3 j = 7\n",
      "i = 3 j = 8\n",
      "i = 3 j = 9\n",
      "i = 4 j = 0\n",
      "i = 4 j = 1\n",
      "i = 4 j = 2\n",
      "i = 4 j = 3\n",
      "i = 4 j = 4\n",
      "i = 4 j = 5\n",
      "i = 4 j = 6\n",
      "i = 4 j = 7\n",
      "i = 4 j = 8\n",
      "i = 4 j = 9\n",
      "i = 5 j = 0\n",
      "i = 5 j = 1\n",
      "i = 5 j = 2\n",
      "i = 5 j = 3\n",
      "i = 5 j = 4\n",
      "i = 5 j = 5\n",
      "i = 5 j = 6\n",
      "i = 5 j = 7\n",
      "i = 5 j = 8\n",
      "i = 5 j = 9\n",
      "i = 6 j = 0\n",
      "i = 6 j = 1\n",
      "i = 6 j = 2\n",
      "i = 6 j = 3\n",
      "i = 6 j = 4\n",
      "i = 6 j = 5\n",
      "i = 6 j = 6\n",
      "i = 6 j = 7\n",
      "i = 6 j = 8\n",
      "i = 6 j = 9\n",
      "i = 7 j = 0\n",
      "i = 7 j = 1\n",
      "i = 7 j = 2\n",
      "i = 7 j = 3\n",
      "i = 7 j = 4\n",
      "i = 7 j = 5\n",
      "i = 7 j = 6\n",
      "i = 7 j = 7\n",
      "i = 7 j = 8\n",
      "i = 7 j = 9\n",
      "i = 8 j = 0\n",
      "i = 8 j = 1\n",
      "i = 8 j = 2\n",
      "i = 8 j = 3\n",
      "i = 8 j = 4\n",
      "i = 8 j = 5\n",
      "i = 8 j = 6\n",
      "i = 8 j = 7\n",
      "i = 8 j = 8\n",
      "i = 8 j = 9\n",
      "i = 9 j = 0\n",
      "i = 9 j = 1\n",
      "i = 9 j = 2\n",
      "i = 9 j = 3\n",
      "i = 9 j = 4\n",
      "i = 9 j = 5\n",
      "i = 9 j = 6\n",
      "i = 9 j = 7\n",
      "i = 9 j = 8\n",
      "i = 9 j = 9\n"
     ]
    }
   ],
   "source": [
    "#Use np.index\n",
    "for i, j in np.ndindex(universe.shape):\n",
    "    print('i =', i, 'j =', j)"
   ]
  },
  {
   "cell_type": "code",
   "execution_count": 18,
   "id": "f0c8bf33-3e1c-484f-aa7a-49b4783f5c17",
   "metadata": {},
   "outputs": [
    {
     "data": {
      "text/plain": [
       "0"
      ]
     },
     "execution_count": 18,
     "metadata": {},
     "output_type": "execute_result"
    }
   ],
   "source": [
    "# Think a bit more about boundry conditions\n",
    "# Operator: Modulo operator, returns the reminder of a division between two numbers\n",
    "\n",
    "5%2\n",
    "6%3\n",
    "\n",
    "# We can use this simple operator to implement \"wrap around\" boundary conditions"
   ]
  },
  {
   "cell_type": "markdown",
   "id": "9f511029-dfcf-4392-8710-cd5ba43d26ea",
   "metadata": {},
   "source": [
    "## 2D neighborhood choices\n",
    "### Von Neumman Neighborhood\n",
    "### The Moore Neighborhood"
   ]
  },
  {
   "cell_type": "code",
   "execution_count": null,
   "id": "67dad446-ab05-47f6-a522-3ba6eefd26d3",
   "metadata": {},
   "outputs": [],
   "source": []
  }
 ],
 "metadata": {
  "kernelspec": {
   "display_name": "Python 3.10.5 64-bit",
   "language": "python",
   "name": "python3"
  },
  "language_info": {
   "codemirror_mode": {
    "name": "ipython",
    "version": 3
   },
   "file_extension": ".py",
   "mimetype": "text/x-python",
   "name": "python",
   "nbconvert_exporter": "python",
   "pygments_lexer": "ipython3",
   "version": "3.10.5"
  },
  "vscode": {
   "interpreter": {
    "hash": "aee8b7b246df8f9039afb4144a1f6fd8d2ca17a180786b69acc140d282b71a49"
   }
  }
 },
 "nbformat": 4,
 "nbformat_minor": 5
}
