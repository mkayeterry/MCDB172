{
 "cells": [
  {
   "cell_type": "markdown",
   "metadata": {},
   "source": [
    "# 1D Cellular Automata\n",
    "from very simple rules, we can still generate complexity - does biology take advantage of this fact?\n",
    "\n",
    "# Main Components\n",
    "* universe - space or grid where intx occur\n",
    "* states that points or cells on grid occupy\n",
    "* neighborhood - what information an individual cell can consider\n",
    "* intx rules - how a cell decides what to do based on its current state (any history of states, etc) and its neighborhood\n"
   ]
  },
  {
   "cell_type": "markdown",
   "metadata": {},
   "source": [
    "## Meta Programming Skills\n",
    "* the package numpy\n",
    "    * think of this as the 'linear algebra' package\n",
    "* basic aspects for any model\n",
    "    * initial conditions\n",
    "    * state variables\n",
    "    * boundary conditions\n",
    "    * time scales\n",
    "    * computational considerations"
   ]
  },
  {
   "cell_type": "code",
   "execution_count": 2,
   "metadata": {},
   "outputs": [
    {
     "name": "stdout",
     "output_type": "stream",
     "text": [
      "[[0. 0. 0. 0. 0. 0. 0. 0. 0. 0. 0. 0. 0. 0. 0. 0. 0. 0. 0. 0. 0.]]\n"
     ]
    }
   ],
   "source": [
    "import numpy as np\n",
    "\n",
    "# Define universe as numpy array\n",
    "universe = np.zeros((1, 21))\n",
    "\n",
    "print(universe)"
   ]
  },
  {
   "cell_type": "code",
   "execution_count": 3,
   "metadata": {},
   "outputs": [
    {
     "data": {
      "text/plain": [
       "<matplotlib.image.AxesImage at 0x114a39900>"
      ]
     },
     "execution_count": 3,
     "metadata": {},
     "output_type": "execute_result"
    },
    {
     "data": {
      "image/png": "[encoded data removed]",
      "text/plain": [
       "<Figure size 1000x500 with 1 Axes>"
      ]
     },
     "metadata": {},
     "output_type": "display_data"
    }
   ],
   "source": [
    "# Visualize the simulation\n",
    "import matplotlib.pyplot as plt\n",
    "plt.rcParams['figure.figsize'] = [10, 5]\n",
    "\n",
    "# Turn off the axis\n",
    "plt.axis('off')\n",
    "\n",
    "# Now to show the universe\n",
    "plt.imshow(universe, cmap = 'gray')"
   ]
  },
  {
   "cell_type": "code",
   "execution_count": 4,
   "metadata": {},
   "outputs": [
    {
     "data": {
      "text/plain": [
       "<matplotlib.image.AxesImage at 0x14403bf10>"
      ]
     },
     "execution_count": 4,
     "metadata": {},
     "output_type": "execute_result"
    },
    {
     "data": {
      "image/png": "[encoded data removed]",
      "text/plain": [
       "<Figure size 1000x500 with 1 Axes>"
      ]
     },
     "metadata": {},
     "output_type": "display_data"
    }
   ],
   "source": [
    "# Change the states of one of the spaces in our universe\n",
    "\n",
    "# Binary states represented as 0 and 1\n",
    "\n",
    "universe[0, 10] = 1 # Change central state to 1\n",
    "\n",
    "plt.imshow(universe, cmap = 'gray')"
   ]
  },
  {
   "cell_type": "markdown",
   "metadata": {},
   "source": [
    "## In Class Activity\n",
    "generate a line of code that allows you to randomly populate your universe with 0s and 1s:"
   ]
  },
  {
   "cell_type": "code",
   "execution_count": 5,
   "metadata": {},
   "outputs": [
    {
     "name": "stdout",
     "output_type": "stream",
     "text": [
      "[0 1 0 1 0 1 0 1 0 0 1 0 0 0 0 1 1 0 1 0 1]\n"
     ]
    },
    {
     "data": {
      "image/png": "[encoded data removed]",
      "text/plain": [
       "<Figure size 1000x500 with 1 Axes>"
      ]
     },
     "metadata": {},
     "output_type": "display_data"
    }
   ],
   "source": [
    "#test\n",
    "\n",
    "import random\n",
    "\n",
    "universe = np.random.randint(2, size = (1, 21))\n",
    "plt.imshow(universe, cmap = 'gray')\n",
    "\n",
    "for i in universe:\n",
    "    x = random.randint(0, 1)\n",
    "    if x > .5:\n",
    "        x = 1\n",
    "    universe[0, 10] = x\n",
    "\n",
    "\n",
    "for i in universe:\n",
    "    print(i)"
   ]
  },
  {
   "cell_type": "code",
   "execution_count": 6,
   "metadata": {},
   "outputs": [
    {
     "data": {
      "text/plain": [
       "<matplotlib.image.AxesImage at 0x144170220>"
      ]
     },
     "execution_count": 6,
     "metadata": {},
     "output_type": "execute_result"
    },
    {
     "data": {
      "image/png": "[encoded data removed]",
      "text/plain": [
       "<Figure size 1000x500 with 1 Axes>"
      ]
     },
     "metadata": {},
     "output_type": "display_data"
    }
   ],
   "source": [
    "universe = np.random.randint(2, size = (1, 21))\n",
    "plt.imshow(universe, cmap = 'gray')"
   ]
  },
  {
   "cell_type": "markdown",
   "metadata": {},
   "source": [
    "## Define the neighborhood\n",
    "\n",
    "what are the definitions that we want to choose to define the simplest possible neighborhood?\n",
    "\n",
    "we will define the left, home, right --> simplest possible neighborhood\n",
    "\n",
    "2^3 = 8 possible neighborhoods (neighborhood configurations)"
   ]
  },
  {
   "cell_type": "code",
   "execution_count": 7,
   "metadata": {},
   "outputs": [],
   "source": [
    "def rules(left, home, right, config):\n",
    "    if (left == 0) & (home == 0) & (right == 0): # enumerate a possible neighborhood\n",
    "        return config[0] # output config\n",
    "    if (left == 1) & (home == 0) & (right == 0): # enumerate a possible neighborhood\n",
    "        return config[1] # output config\n",
    "    if (left == 0) & (home == 1) & (right == 0): # enumerate a possible neighborhood\n",
    "        return config[2] # output config\n",
    "    if (left == 1) & (home == 1) & (right == 0): # enumerate a possible neighborhood\n",
    "        return config[3] # output config\n",
    "    if (left == 0) & (home == 0) & (right == 1): # enumerate a possible neighborhood\n",
    "        return config[4] # output config\n",
    "    if (left == 1) & (home == 0) & (right == 1): # enumerate a possible neighborhood\n",
    "        return config[5] # output config\n",
    "    if (left == 0) & (home == 1) & (right == 1): # enumerate a possible neighborhood\n",
    "        return config[6] # output config\n",
    "    if (left == 1) & (home == 1) & (right == 1): # enumerate a possible neighborhood\n",
    "        return config[7] # output config"
   ]
  },
  {
   "cell_type": "code",
   "execution_count": 8,
   "metadata": {},
   "outputs": [
    {
     "data": {
      "text/plain": [
       "1"
      ]
     },
     "execution_count": 8,
     "metadata": {},
     "output_type": "execute_result"
    }
   ],
   "source": [
    "# testing the rules function\n",
    "config = np.array([1, 0, 1, 1, 0, 1, 1, 1])\n",
    "\n",
    "left = 0\n",
    "right = 1\n",
    "home = 1\n",
    "\n",
    "rules(left, home, right, config)"
   ]
  },
  {
   "cell_type": "markdown",
   "metadata": {},
   "source": [
    "We need a function that takes in a particular set of initial conditions\n",
    "It needs to take a particular rule set, (or config file)\n",
    "Function should return a new universe that has been updated based on the rules"
   ]
  },
  {
   "cell_type": "code",
   "execution_count": 9,
   "metadata": {},
   "outputs": [],
   "source": [
    "def generate(universe, config):\n",
    "    #it should return a new universe, let's initiate the new universe\n",
    "    newuniverse = np.zeros((1, universe.size))\n",
    "\n",
    "    for i in np.arange(universe.size):\n",
    "\n",
    "        # boundary conditions\n",
    "        # ignore the farthest left and farthest right elements\n",
    "        if (i != 0) & (i != universe.size - 1):\n",
    "\n",
    "            left = universe[0, i-1]\n",
    "            home = universe[0, i]\n",
    "            right = universe[0, i+1]\n",
    "\n",
    "            newuniverse[0, i] = rules(left, home, right, config)\n",
    "\n",
    "    return newuniverse"
   ]
  },
  {
   "cell_type": "code",
   "execution_count": 10,
   "metadata": {},
   "outputs": [
    {
     "name": "stdout",
     "output_type": "stream",
     "text": [
      "[[0. 0. 0. 0. 0. 0. 0. 0. 0. 0. 0. 0. 0. 0. 0. 0. 0. 0. 0. 0. 0.]]\n",
      "[[0. 1. 1. 1. 1. 1. 1. 1. 1. 1. 1. 1. 1. 1. 1. 1. 1. 1. 1. 1. 0.]]\n"
     ]
    }
   ],
   "source": [
    "# check that the generate function works\n",
    "config = np.array([1, 0, 1, 0, 1, 0, 1, 1])\n",
    "universe = np.zeros((1, 21))\n",
    "newuniverse = generate(universe, config)\n",
    "\n",
    "print(universe)\n",
    "print(newuniverse)"
   ]
  },
  {
   "cell_type": "code",
   "execution_count": 11,
   "metadata": {},
   "outputs": [
    {
     "name": "stdout",
     "output_type": "stream",
     "text": [
      "[ 0  1  2  3  4  5  6  7  8  9 10 11 12 13 14 15 16 17 18 19 20]\n"
     ]
    }
   ],
   "source": [
    "print(np.arange(universe.size))"
   ]
  },
  {
   "cell_type": "code",
   "execution_count": 12,
   "metadata": {},
   "outputs": [
    {
     "name": "stdout",
     "output_type": "stream",
     "text": [
      "20\n"
     ]
    }
   ],
   "source": [
    "print(universe.size - 1)"
   ]
  },
  {
   "cell_type": "markdown",
   "metadata": {},
   "source": [
    "# Quickly Review Dimensions"
   ]
  },
  {
   "cell_type": "code",
   "execution_count": 13,
   "metadata": {},
   "outputs": [
    {
     "data": {
      "text/plain": [
       "(1, 1, 21)"
      ]
     },
     "execution_count": 13,
     "metadata": {},
     "output_type": "execute_result"
    }
   ],
   "source": [
    "universe = np.zeros(21)\n",
    "universe.shape\n",
    "\n",
    "universe = np.zeros((1, 21))\n",
    "universe.shape\n",
    "\n",
    "universe = np.zeros((1, 1, 21))\n",
    "universe.shape"
   ]
  },
  {
   "cell_type": "markdown",
   "metadata": {},
   "source": [
    "# Binary Representation\n",
    "\n",
    "for a 2 bit number we have two spaces\n",
    "\n",
    "0 = [0,0]\n",
    "\n",
    "1 = [0,1]\n",
    "\n",
    "2 = [1,0]\n",
    "\n",
    "3 = [1,1]\n"
   ]
  },
  {
   "cell_type": "markdown",
   "metadata": {},
   "source": [
    "a function to generate binary numbers:"
   ]
  },
  {
   "cell_type": "code",
   "execution_count": 14,
   "metadata": {},
   "outputs": [
    {
     "name": "stdout",
     "output_type": "stream",
     "text": [
      "00000101\n"
     ]
    }
   ],
   "source": [
    "binum = np.binary_repr(5, width = 8)\n",
    "print(binum)"
   ]
  },
  {
   "cell_type": "code",
   "execution_count": 15,
   "metadata": {},
   "outputs": [],
   "source": [
    "# Lets make a wrapper to get the binary array in the correct representation\n",
    "\n",
    "def num2binArray(num):\n",
    "    binstr = np.binary_repr(num, width = 8)\n",
    "    binArray = np.empty(0)\n",
    "    for i in binstr:\n",
    "        binArray = np.append(binArray,int(i))\n",
    "    return np.flip(binArray)"
   ]
  },
  {
   "cell_type": "code",
   "execution_count": 16,
   "metadata": {},
   "outputs": [
    {
     "data": {
      "text/plain": [
       "array([0., 1., 1., 1., 1., 0., 0., 0.])"
      ]
     },
     "execution_count": 16,
     "metadata": {},
     "output_type": "execute_result"
    }
   ],
   "source": [
    "# test num2binArray\n",
    "\n",
    "num2binArray(30)"
   ]
  },
  {
   "cell_type": "code",
   "execution_count": 17,
   "metadata": {},
   "outputs": [
    {
     "data": {
      "text/plain": [
       "<matplotlib.image.AxesImage at 0x1441dd150>"
      ]
     },
     "execution_count": 17,
     "metadata": {},
     "output_type": "execute_result"
    },
    {
     "data": {
      "image/png": "[encoded data removed]",
      "text/plain": [
       "<Figure size 1000x500 with 1 Axes>"
      ]
     },
     "metadata": {},
     "output_type": "display_data"
    }
   ],
   "source": [
    "# Run the simulation through 100 generations\n",
    "# Think about time in terms of \"generations\"\n",
    "\n",
    "# as simulators, we assign \"time\" to each generation\n",
    "t = 100\n",
    "\n",
    "# Set up a particular rule set (or configuration)\n",
    "config = num2binArray(105)\n",
    "\n",
    "# Estanblish the universe and the initial conditions\n",
    "universe = np.zeros((1, 201))\n",
    "universe[0,100] = 1\n",
    "\n",
    "# Establish a memory store of generations \n",
    "stateMemory = np.zeros((t, universe.size))\n",
    "\n",
    "# For loop to iteratively run the simulation\n",
    "for i in range(t):\n",
    "    stateMemory[i,:] = universe\n",
    "    newuniverse = generate(universe, config)\n",
    "    universe = newuniverse\n",
    "\n",
    "# Visualization of the simulation\n",
    "\n",
    "plt.axis('on')\n",
    "plt.ylabel(\"Generations\")\n",
    "plt.xlabel(\"Position in the Universe\")\n",
    "plt.imshow(stateMemory, cmap = 'gray')"
   ]
  },
  {
   "cell_type": "markdown",
   "metadata": {},
   "source": [
    "examples of classes of patterns:\n",
    "\n",
    "class #1: uniformity = 222\n",
    "\n",
    "class #2: repetitive = 190\n",
    "\n",
    "class #3: random = 30\n",
    "\n",
    "class #4: complex = 110\n",
    "\n",
    "    - the boundary of randomness and uniformity"
   ]
  },
  {
   "cell_type": "markdown",
   "metadata": {},
   "source": []
  }
 ],
 "metadata": {
  "kernelspec": {
   "display_name": "Python 3.10.5 64-bit",
   "language": "python",
   "name": "python3"
  },
  "language_info": {
   "codemirror_mode": {
    "name": "ipython",
    "version": 3
   },
   "file_extension": ".py",
   "mimetype": "text/x-python",
   "name": "python",
   "nbconvert_exporter": "python",
   "pygments_lexer": "ipython3",
   "version": "3.10.5"
  },
  "orig_nbformat": 4,
  "vscode": {
   "interpreter": {
    "hash": "aee8b7b246df8f9039afb4144a1f6fd8d2ca17a180786b69acc140d282b71a49"
   }
  }
 },
 "nbformat": 4,
 "nbformat_minor": 2
}
