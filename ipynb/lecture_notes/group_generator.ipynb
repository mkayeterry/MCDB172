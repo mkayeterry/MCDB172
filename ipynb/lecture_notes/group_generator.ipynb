{
 "cells": [
  {
   "cell_type": "code",
   "execution_count": 1,
   "metadata": {},
   "outputs": [
    {
     "ename": "SyntaxError",
     "evalue": "invalid syntax (3124559236.py, line 1)",
     "output_type": "error",
     "traceback": [
      "\u001b[0;36m  Cell \u001b[0;32mIn [1], line 1\u001b[0;36m\u001b[0m\n\u001b[0;31m    import csvimport random\u001b[0m\n\u001b[0m                     ^\u001b[0m\n\u001b[0;31mSyntaxError\u001b[0m\u001b[0;31m:\u001b[0m invalid syntax\n"
     ]
    }
   ],
   "source": [
    "import csvimport random\n",
    "\n",
    "def generate_random_groups(file_path, subgroup_size):\n",
    "    groups = []\n",
    "    combined_str = []\n",
    "\n",
    "    with open(file_path, newline = '') as csvfile:\n",
    "        reader = csv.reader(csvfile)\n",
    "        for row in reader:\n",
    "            combined_str.append(row[0] + ' ' + row[1])\n",
    "\n",
    "        randomized_str = random.shuffle(combined_str)\n",
    "\n",
    "        for i in range(0, len(combined_str), subgroup_size):\n",
    "            groups.append(combined_str[i:i+subgroup_size])\n",
    "        return groups\n",
    "\n",
    "file_path = \"users_for_courseid_46056.csv\"\n",
    "subgroup_size = 4\n",
    "groups = generate_random_groups(file_path, subgroup_size)\n",
    "\n",
    "for group in groups:\n",
    "    print(group)"
   ]
  },
  {
   "cell_type": "code",
   "execution_count": null,
   "metadata": {},
   "outputs": [],
   "source": []
  }
 ],
 "metadata": {
  "kernelspec": {
   "display_name": "Python 3.10.5 64-bit",
   "language": "python",
   "name": "python3"
  },
  "language_info": {
   "codemirror_mode": {
    "name": "ipython",
    "version": 3
   },
   "file_extension": ".py",
   "mimetype": "text/x-python",
   "name": "python",
   "nbconvert_exporter": "python",
   "pygments_lexer": "ipython3",
   "version": "3.10.5"
  },
  "orig_nbformat": 4,
  "vscode": {
   "interpreter": {
    "hash": "aee8b7b246df8f9039afb4144a1f6fd8d2ca17a180786b69acc140d282b71a49"
   }
  }
 },
 "nbformat": 4,
 "nbformat_minor": 2
}
