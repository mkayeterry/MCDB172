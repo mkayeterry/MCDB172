{
  "cells": [
    {
      "cell_type": "markdown",
      "metadata": {},
      "source": [
        "# 2D cellular Automata\n",
        "\n",
        "CAs for short,\n",
        "\n",
        "A CA is s system on cells that \"live\" on a 2D grid (in our case today) - universe\n",
        "\n",
        "In practice, CAs can be any number of dimension.\n",
        "\n",
        "These grid configuration can have any kind of connectivity (line,square,lattice,Hexagonal,array)\n",
        "\n",
        "The game of life-a stem that exist on a 2D square lattice\n",
        "\n",
        "Cells on this grid follow \"rule\" which we ireate over through \"generation\" (time)\n",
        "\n",
        "Intial condition determine the final outcome of the Game of Life. Those are in practice 1\"s and 0\"s in a 2D array.\n",
        "\n",
        "The game of life 2 discrete state,dead(0) or alive(1)"
      ]
    },
    {
      "cell_type": "markdown",
      "metadata": {},
      "source": [
        "# rules\n",
        "\n",
        "At each time step, the following transition occurs:\n",
        "\n",
        "1. Any live cell with fewer than two live neighbors dies, as if by underpopulation.\n",
        "2. Any live cell with two or three live neighbors live on the next generation.\n",
        "3. Any live cell with more than 3 live neighbors dies, as if by overpopulation.\n",
        "1. Any dead cell with exactly 3 live neighbors alive, as if by reproduction."
      ]
    },
    {
      "cell_type": "markdown",
      "metadata": {},
      "source": [
        "## compressed rules\n",
        "\n",
        "1. any live with 2 or 3 survives\n",
        "2. any dead with 3 become alive\n",
        "3. all other live cells die in next generation\n"
      ]
    },
    {
      "cell_type": "code",
      "execution_count": 3,
      "metadata": {
        "trusted": true
      },
      "outputs": [
        {
          "name": "stdout",
          "output_type": "stream",
          "text": [
            "[[0. 0. 0. 0. 0. 0. 0. 0. 0. 0.]\n",
            " [0. 0. 0. 0. 0. 0. 0. 0. 0. 0.]\n",
            " [0. 0. 0. 0. 0. 0. 0. 0. 0. 0.]\n",
            " [0. 0. 0. 0. 0. 0. 0. 0. 0. 0.]\n",
            " [0. 0. 0. 0. 0. 0. 0. 0. 0. 0.]\n",
            " [0. 0. 0. 0. 0. 0. 0. 0. 0. 0.]\n",
            " [0. 0. 0. 0. 0. 0. 0. 0. 0. 0.]\n",
            " [0. 0. 0. 0. 0. 0. 0. 0. 0. 0.]\n",
            " [0. 0. 0. 0. 0. 0. 0. 0. 0. 0.]\n",
            " [0. 0. 0. 0. 0. 0. 0. 0. 0. 0.]]\n",
            "[[1 1 1 1 1 1 1 0 0 1]\n",
            " [0 0 0 0 0 0 1 0 0 1]\n",
            " [0 1 1 1 1 1 1 1 1 1]\n",
            " [1 0 0 1 1 1 1 0 0 1]\n",
            " [0 0 1 1 1 0 1 1 1 0]\n",
            " [1 1 0 1 1 0 0 0 0 1]\n",
            " [1 0 1 0 1 1 0 0 0 0]\n",
            " [1 0 0 1 0 0 1 1 1 0]\n",
            " [1 1 1 1 0 0 1 1 1 0]\n",
            " [0 1 1 0 1 0 1 1 0 0]]\n"
          ]
        }
      ],
      "source": [
        "import numpy as np\n",
        "\n",
        "universe = np.zeros((10,10))\n",
        "print(universe)\n",
        "\n",
        "universe = np.random.randint(2,size=(10,10))\n",
        "print(universe)"
      ]
    },
    {
      "cell_type": "code",
      "execution_count": 4,
      "metadata": {
        "trusted": true
      },
      "outputs": [
        {
          "data": {
            "text/plain": [
              "<matplotlib.image.AxesImage at 0x11bf9c5e0>"
            ]
          },
          "execution_count": 4,
          "metadata": {},
          "output_type": "execute_result"
        },
        {
          "data": {
            "image/png": "[encoded data removed]",
            "text/plain": [
              "<Figure size 640x480 with 1 Axes>"
            ]
          },
          "metadata": {},
          "output_type": "display_data"
        }
      ],
      "source": [
        "#visualize the universe\n",
        "import matplotlib.pyplot as plt\n",
        "\n",
        "plt.imshow(universe,cmap = \"gray\")"
      ]
    },
    {
      "cell_type": "code",
      "execution_count": 5,
      "metadata": {
        "trusted": true
      },
      "outputs": [
        {
          "name": "stdout",
          "output_type": "stream",
          "text": [
            "i =  0 j =  0\n",
            "i =  0 j =  1\n",
            "i =  0 j =  2\n",
            "i =  0 j =  3\n",
            "i =  0 j =  4\n",
            "i =  0 j =  5\n",
            "i =  0 j =  6\n",
            "i =  0 j =  7\n",
            "i =  0 j =  8\n",
            "i =  0 j =  9\n",
            "i =  1 j =  0\n",
            "i =  1 j =  1\n",
            "i =  1 j =  2\n",
            "i =  1 j =  3\n",
            "i =  1 j =  4\n",
            "i =  1 j =  5\n",
            "i =  1 j =  6\n",
            "i =  1 j =  7\n",
            "i =  1 j =  8\n",
            "i =  1 j =  9\n",
            "i =  2 j =  0\n",
            "i =  2 j =  1\n",
            "i =  2 j =  2\n",
            "i =  2 j =  3\n",
            "i =  2 j =  4\n",
            "i =  2 j =  5\n",
            "i =  2 j =  6\n",
            "i =  2 j =  7\n",
            "i =  2 j =  8\n",
            "i =  2 j =  9\n",
            "i =  3 j =  0\n",
            "i =  3 j =  1\n",
            "i =  3 j =  2\n",
            "i =  3 j =  3\n",
            "i =  3 j =  4\n",
            "i =  3 j =  5\n",
            "i =  3 j =  6\n",
            "i =  3 j =  7\n",
            "i =  3 j =  8\n",
            "i =  3 j =  9\n",
            "i =  4 j =  0\n",
            "i =  4 j =  1\n",
            "i =  4 j =  2\n",
            "i =  4 j =  3\n",
            "i =  4 j =  4\n",
            "i =  4 j =  5\n",
            "i =  4 j =  6\n",
            "i =  4 j =  7\n",
            "i =  4 j =  8\n",
            "i =  4 j =  9\n",
            "i =  5 j =  0\n",
            "i =  5 j =  1\n",
            "i =  5 j =  2\n",
            "i =  5 j =  3\n",
            "i =  5 j =  4\n",
            "i =  5 j =  5\n",
            "i =  5 j =  6\n",
            "i =  5 j =  7\n",
            "i =  5 j =  8\n",
            "i =  5 j =  9\n",
            "i =  6 j =  0\n",
            "i =  6 j =  1\n",
            "i =  6 j =  2\n",
            "i =  6 j =  3\n",
            "i =  6 j =  4\n",
            "i =  6 j =  5\n",
            "i =  6 j =  6\n",
            "i =  6 j =  7\n",
            "i =  6 j =  8\n",
            "i =  6 j =  9\n",
            "i =  7 j =  0\n",
            "i =  7 j =  1\n",
            "i =  7 j =  2\n",
            "i =  7 j =  3\n",
            "i =  7 j =  4\n",
            "i =  7 j =  5\n",
            "i =  7 j =  6\n",
            "i =  7 j =  7\n",
            "i =  7 j =  8\n",
            "i =  7 j =  9\n",
            "i =  8 j =  0\n",
            "i =  8 j =  1\n",
            "i =  8 j =  2\n",
            "i =  8 j =  3\n",
            "i =  8 j =  4\n",
            "i =  8 j =  5\n",
            "i =  8 j =  6\n",
            "i =  8 j =  7\n",
            "i =  8 j =  8\n",
            "i =  8 j =  9\n",
            "i =  9 j =  0\n",
            "i =  9 j =  1\n",
            "i =  9 j =  2\n",
            "i =  9 j =  3\n",
            "i =  9 j =  4\n",
            "i =  9 j =  5\n",
            "i =  9 j =  6\n",
            "i =  9 j =  7\n",
            "i =  9 j =  8\n",
            "i =  9 j =  9\n"
          ]
        }
      ],
      "source": [
        "# use np.index\n",
        "\n",
        "for i,j in np.ndindex(universe.shape):\n",
        "    print ('i = ',i,'j = ',j)"
      ]
    },
    {
      "cell_type": "code",
      "execution_count": 4,
      "metadata": {
        "trusted": true
      },
      "outputs": [
        {
          "data": {
            "text/plain": [
              "0"
            ]
          },
          "execution_count": 4,
          "metadata": {},
          "output_type": "execute_result"
        }
      ],
      "source": [
        "# Think a bit more about boundary conditions\n",
        "#operator:modulo operator, return remainder of a division between two number\n",
        "\n",
        "5%2\n",
        "6%3\n",
        "\n",
        "#we can use this simple operator to implement \"wrap around\" boundary condition\n"
      ]
    },
    {
      "cell_type": "markdown",
      "metadata": {},
      "source": [
        "## 2D neighborhood choice\n",
        "\n",
        "von Neumman neighborhood\n",
        "The moore neighborhood"
      ]
    },
    {
      "cell_type": "code",
      "execution_count": 6,
      "metadata": {
        "trusted": true
      },
      "outputs": [],
      "source": [
        "#let build the gol update function\n",
        "\n",
        "def update(x):\n",
        "    #get the shape of the universe\n",
        "    rows, cols = x.shape\n",
        "    \n",
        "    #create a structure for the new universe\n",
        "    xnew = np.zeros(x.shape)\n",
        "    \n",
        "    #find the number of living neighbor for every cell\n",
        "    #do this while considering the fact that we have a moore neighborhood and warp - around boundary condition\n",
        "    \n",
        "    for i, j in np.ndindex(x.shape):\n",
        "        total = (x[i,(j-1)%rows]#left\n",
        "                 + x[i,(j+1)%rows]#right\n",
        "                 + x[(i-1)%cols,j]#up\n",
        "                 + x[(i+1)%cols,j]#down\n",
        "                 + x[(i-1)%cols,(j-1)%rows]#upleft\n",
        "                 + x[(i-1)%cols,(j+1)%rows]#upright\n",
        "                 + x[(i+1)%cols,(j-1)%rows]#downright\n",
        "                 + x[(i+1)%cols,(j+1)%rows])#downleft\n",
        "                 \n",
        "        #now implement the rules\n",
        "        if x[i,j] == 1:# if the cell is alive\n",
        "                 \n",
        "            if (total < 2) or (total > 3):#overpopulation and underpopulation\n",
        "                 xnew[i,j] = 0\n",
        "            else:# any cell with 2 or 3 \n",
        "                 xnew[i,j] = 1\n",
        "                \n",
        "        else:# equivalent to if x[i,j]==0\n",
        "            if total == 3:#condition of birth\n",
        "                 xnew[i,j] = 1\n",
        "            else:\n",
        "                 xnew[i,j] = 0\n",
        "                 \n",
        "    return xnew\n",
        "                 \n",
        "           \n",
        "            \n",
        "                 \n",
        "        "
      ]
    },
    {
      "cell_type": "code",
      "execution_count": 7,
      "metadata": {
        "trusted": true
      },
      "outputs": [
        {
          "name": "stdout",
          "output_type": "stream",
          "text": [
            "[[0. 0. 0. 0. 0.]\n",
            " [0. 0. 1. 0. 0.]\n",
            " [0. 0. 1. 0. 0.]\n",
            " [0. 0. 1. 0. 0.]\n",
            " [0. 0. 0. 0. 0.]]\n"
          ]
        },
        {
          "data": {
            "text/plain": [
              "<matplotlib.image.AxesImage at 0x11e8a0040>"
            ]
          },
          "execution_count": 7,
          "metadata": {},
          "output_type": "execute_result"
        },
        {
          "data": {
            "image/png": "[encoded data removed]",
            "text/plain": [
              "<Figure size 640x480 with 1 Axes>"
            ]
          },
          "metadata": {},
          "output_type": "display_data"
        }
      ],
      "source": [
        "#so lets test the uptake function\n",
        "\n",
        "beacon = np.zeros((5,5))\n",
        "beacon[1:4,2:3] = np.ones((3,1))\n",
        "\n",
        "print(beacon)\n",
        "\n",
        "#plt.imshow(beacon, cmap = 'gray')\n",
        "\n",
        "plt.imshow(update(beacon),cmap = 'gray')"
      ]
    },
    {
      "cell_type": "code",
      "execution_count": 7,
      "metadata": {
        "trusted": true
      },
      "outputs": [
        {
          "data": {
            "image/png": "[encoded data removed]",
            "text/plain": [
              "<Figure size 640x480 with 1 Axes>"
            ]
          },
          "metadata": {},
          "output_type": "display_data"
        }
      ],
      "source": [
        "#Animate or visualize the simulation\n",
        "from IPython.display import clear_output\n",
        "from time import sleep\n",
        "\n",
        "#define number of generation\n",
        "n =100\n",
        "for i in range(n):\n",
        "    plt.imshow(update(beacon),cmap = 'gray')\n",
        "    plt.show()\n",
        "    \n",
        "    sleep(.5)#make it slow\n",
        "    \n",
        "    beacon = update(beacon)\n",
        "    \n",
        "    clear_output(wait = True)"
      ]
    },
    {
      "cell_type": "code",
      "execution_count": 8,
      "metadata": {
        "trusted": true
      },
      "outputs": [],
      "source": [
        "import matplotlib.pyplot as plt\n",
        "import numpy as np\n",
        "from IPython.display import clear_output\n",
        "from time import sleep\n",
        "\n",
        "def loadlife(filename):\n",
        "    \n",
        "    def read_grid(j, lines):\n",
        "        grid = []\n",
        "        \n",
        "        while not lines[j].startswith('#P'):\n",
        "            \n",
        "            line = list(lines[j])[:-1]\n",
        "            \n",
        "            tx_line = [0 if item == '.' else item for item in line]\n",
        "            tx_line = [1 if item == '*' else item for item in tx_line]\n",
        "            \n",
        "            grid.append(tx_line)\n",
        "            \n",
        "            j += 1\n",
        "            if j == len(lines): break\n",
        "                \n",
        "        return grid\n",
        "    \n",
        "    file = open(filename, 'r')\n",
        "    \n",
        "    lines = file.readlines()\n",
        "    \n",
        "    point_map = {}\n",
        "    points = []\n",
        "    \n",
        "    for i, line in enumerate(lines):\n",
        "        if line.startswith('#P'):\n",
        "            point = (int(line.split()[1]), int(line.split()[2]))\n",
        "            points.append(point)\n",
        "            grid = read_grid(i + 1, lines)\n",
        "            point_map[point] = grid\n",
        "            \n",
        "    for point, grid in point_map.items():\n",
        "        # find max length if grid\n",
        "        max_length = max([len(row) for row in grid])\n",
        "\n",
        "        #Add leftovers\n",
        "        for row in grid:\n",
        "            row.extend([0]*(max_length - len(row)))\n",
        "        \n",
        "    most_neg_x = min([point[0] for point in points])\n",
        "    most_pos_y = max([point[1] for point in points])\n",
        "    \n",
        "    most_pos_x = max([point[0] + len(point_map[point][0]) - 1 for point in points])\n",
        "    most_neg_y = min([point[1] - len(point_map[point]) + 1 for point in points])\n",
        "    \n",
        "    x_len = most_pos_x - most_neg_x + 1\n",
        "    y_len = most_pos_y - most_neg_y + 1\n",
        "    \n",
        "    universe = [[0 for _ in range(x_len)] for _ in range(y_len)]\n",
        "    \n",
        "    normalized_numpized_point_map = {}\n",
        "    \n",
        "    for point, grid in point_map.items():\n",
        "        #normalize point\n",
        "        x, y = point\n",
        "        \n",
        "        x_n = x - most_neg_x\n",
        "        y_n = (-y) + most_pos_y\n",
        "        \n",
        "        point_n = x_n, y_n\n",
        "        normalized_numpized_point_map[point_n] = np.asarray(grid)\n",
        "        \n",
        "    universe = np.asarray(universe)\n",
        "    universe = np.zeros((y_len,x_len))\n",
        "    \n",
        "    for point, grid in normalized_numpized_point_map.items():\n",
        "        \n",
        "        rowu = point[1]\n",
        "        rowl = int(point[1] + grid.shape[0])\n",
        "        coll = point[0]\n",
        "        colr = int(point[0] + grid.shape[1])\n",
        "        \n",
        "    \n",
        "#         print('col dif ', colr-coll)\n",
        "#         print('cols in universe ', universe.shape[1])\n",
        "#         print('row dif ', rowl-rowu)\n",
        "#         print('rows in universe ', universe.shape[0])\n",
        "#         print('grid shape', grid.shape)\n",
        "#         print('rowu ', rowu, 'row l ', rowl)\n",
        "        \n",
        "        universe[rowu:rowl, coll:colr] = grid\n",
        "    \n",
        "    return universe\n"
      ]
    },
    {
      "cell_type": "code",
      "execution_count": 9,
      "metadata": {
        "trusted": true
      },
      "outputs": [
        {
          "data": {
            "text/plain": [
              "<matplotlib.image.AxesImage at 0x342e750>"
            ]
          },
          "execution_count": 9,
          "metadata": {},
          "output_type": "execute_result"
        },
        {
          "data": {
            "image/png": "[encoded data removed]",
            "text/plain": [
              "<Figure size 640x480 with 1 Axes>"
            ]
          },
          "metadata": {},
          "output_type": "display_data"
        }
      ],
      "source": [
        "filename = 'lifep/ACORN.LIF'\n",
        "\n",
        "seed = loadlife(filename)\n",
        "\n",
        "plt.imshow(seed,cmap = 'gray')"
      ]
    },
    {
      "cell_type": "code",
      "execution_count": 10,
      "metadata": {
        "trusted": true
      },
      "outputs": [],
      "source": [
        "#floor division\n",
        "def ceil(a,b):\n",
        "    return -(-a//b)\n",
        "\n",
        "def plant_seed(seed,nrow,ncol):\n",
        "    #generate the blank universe that we \"plant\" the seed into\n",
        "    soil = np.zeros((nrow,ncol))\n",
        "    \n",
        "    rowu = soil.shape[0]//2 + seed.shape[0]//2\n",
        "    rowl = ceil(soil.shape[0],2) - ceil(seed.shape[0],2)\n",
        "    colu = soil.shape[1]//2 + seed.shape[1]//2\n",
        "    coll = ceil(soil.shape[1],2) - ceil(seed.shape[1],2)\n",
        "    \n",
        "    #plant the seed with the generatd indices\n",
        "    soil[rowl:rowu,coll:colu] = seed\n",
        "    \n",
        "    planted_seed = soil\n",
        "    return planted_seed"
      ]
    },
    {
      "cell_type": "code",
      "execution_count": 11,
      "metadata": {
        "trusted": true
      },
      "outputs": [
        {
          "data": {
            "text/plain": [
              "<matplotlib.image.AxesImage at 0x3ee96f8>"
            ]
          },
          "execution_count": 11,
          "metadata": {},
          "output_type": "execute_result"
        },
        {
          "data": {
            "image/png": "[encoded data removed]",
            "text/plain": [
              "<Figure size 1000x1000 with 1 Axes>"
            ]
          },
          "metadata": {},
          "output_type": "display_data"
        }
      ],
      "source": [
        "filename = 'lifep/QUILT.LIF'\n",
        "seed = loadlife(filename)\n",
        "\n",
        "universe = plant_seed(seed,100,100)\n",
        "\n",
        "plt.figure(figsize = (10,10))\n",
        "plt.imshow(universe,cmap = 'gray')"
      ]
    },
    {
      "cell_type": "code",
      "execution_count": 12,
      "metadata": {
        "trusted": true
      },
      "outputs": [],
      "source": [
        "from IPython.display import clear_output\n",
        "from time import sleep\n",
        "\n",
        "#define number of generation\n",
        "def animatelife(x,n):\n",
        "    for i in range(n):\n",
        "        plt.imshow(x,cmap = 'gray')\n",
        "        plt.axis('off')\n",
        "        plt.show()\n",
        "        \n",
        "        x = update(x)\n",
        "        \n",
        "        clear_output(wait = True)\n",
        "        \n"
      ]
    },
    {
      "cell_type": "code",
      "execution_count": 13,
      "metadata": {
        "trusted": true
      },
      "outputs": [
        {
          "data": {
            "image/png": "[encoded data removed]",
            "text/plain": [
              "<Figure size 640x480 with 1 Axes>"
            ]
          },
          "metadata": {},
          "output_type": "display_data"
        }
      ],
      "source": [
        "filename = 'lifep/ACORN.LIF'\n",
        "\n",
        "seed = loadlife(filename)\n",
        "universe = plant_seed(seed,200,200)\n",
        "\n",
        "n = 1000\n",
        "\n",
        "animatelife(universe,n)"
      ]
    },
    {
      "cell_type": "markdown",
      "metadata": {},
      "source": [
        "## excitable systems\n",
        "\n",
        "excitable system is one where a small input leads to a relatively large output\n",
        "\n",
        "when excitable systems are coupled in space - they lead to waves\n",
        "\n",
        "* brain waves\n",
        "* electrical biofilms\n",
        "* developmental signal (somitogenesis)\n",
        "\n",
        "\n",
        "## rules for an excitable system\n",
        "\n",
        "1) if any cell in state 0 has at leats one of it's neighbor in state 1, it becomes a 1 in next generation\n",
        "2) if any cell in state non zero then it advance by one at the next time step\n",
        "3) if a cell us in its Max state, in next generation it return 0\n",
        "4) if a cell in state 0 and none of its neighbors are 1, it remain a 0"
      ]
    },
    {
      "cell_type": "code",
      "execution_count": 14,
      "metadata": {
        "trusted": true
      },
      "outputs": [
        {
          "data": {
            "text/plain": [
              "<matplotlib.image.AxesImage at 0x31b87b0>"
            ]
          },
          "execution_count": 14,
          "metadata": {},
          "output_type": "execute_result"
        },
        {
          "data": {
            "image/png": "[encoded data removed]",
            "text/plain": [
              "<Figure size 640x480 with 1 Axes>"
            ]
          },
          "metadata": {},
          "output_type": "display_data"
        }
      ],
      "source": [
        "universe = np.random.randint(6,size = (100,100))\n",
        "plt.imshow(universe,cmap ='plasma' )"
      ]
    },
    {
      "cell_type": "code",
      "execution_count": 15,
      "metadata": {
        "trusted": true
      },
      "outputs": [],
      "source": [
        "#define number of generation with diff color\n",
        "def animatelife(x,n,update,colstr):\n",
        "    for i in range(n):\n",
        "        plt.imshow(x,cmap = 'plasma')\n",
        "        plt.axis('off')\n",
        "        plt.show()\n",
        "        \n",
        "        x = update(x)\n",
        "        \n",
        "        clear_output(wait = True)"
      ]
    },
    {
      "cell_type": "code",
      "execution_count": 16,
      "metadata": {
        "trusted": true
      },
      "outputs": [],
      "source": [
        "def excitable(x):\n",
        "    \n",
        "    rows,cols = x.shape\n",
        "    xnew = np.zeros(x.shape)\n",
        "    \n",
        "    for i,j in np.ndindex(x.shape):\n",
        "        nh = np.array([x[i,(j-1)%rows],x[i,(j+1)%rows],\n",
        "                       x[(i-1)%cols,j],x[(i+1)%cols,j],\n",
        "                       x[(i-1)%cols,(j+1)%rows],\n",
        "                       x[(i-1)%cols,(j-1)%rows],\n",
        "                       x[(i+1)%cols,(j+1)%rows],\n",
        "                       x[(i+1)%cols,(j-1)%rows]])\n",
        "        #now implement the rules for an excitable system\n",
        "        \n",
        "        if (x[i,j] == 0) & (np.sum(nh == 1) >= 1):\n",
        "            xnew[i,j] = 1\n",
        "        elif x[i,j] == 10:\n",
        "            xnew[i,j] = 0\n",
        "        elif x[i,j] >= 1:\n",
        "            xnew[i,j] = x[i,j] + 1\n",
        "            \n",
        "    return xnew"
      ]
    },
    {
      "cell_type": "code",
      "execution_count": 17,
      "metadata": {
        "trusted": true
      },
      "outputs": [
        {
          "data": {
            "image/png": "[encoded data removed]",
            "text/plain": [
              "<Figure size 640x480 with 1 Axes>"
            ]
          },
          "metadata": {},
          "output_type": "display_data"
        }
      ],
      "source": [
        "universe = np.zeros((100,100))\n",
        "\n",
        "universe[45:55,45:55] = np.random.randint(11,size = (10,10))\n",
        "\n",
        "animatelife(universe,500,excitable,'plasma')"
      ]
    },
    {
      "cell_type": "code",
      "execution_count": null,
      "metadata": {},
      "outputs": [],
      "source": []
    }
  ],
  "metadata": {
    "kernelspec": {
      "display_name": "Python 3.10.5 64-bit",
      "language": "python",
      "name": "python3"
    },
    "language_info": {
      "codemirror_mode": {
        "name": "ipython",
        "version": 3
      },
      "file_extension": ".py",
      "mimetype": "text/x-python",
      "name": "python",
      "nbconvert_exporter": "python",
      "pygments_lexer": "ipython3",
      "version": "3.10.5"
    },
    "vscode": {
      "interpreter": {
        "hash": "aee8b7b246df8f9039afb4144a1f6fd8d2ca17a180786b69acc140d282b71a49"
      }
    }
  },
  "nbformat": 4,
  "nbformat_minor": 4
}
