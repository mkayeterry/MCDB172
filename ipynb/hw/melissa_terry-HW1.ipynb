{
 "cells": [
  {
   "cell_type": "markdown",
   "metadata": {},
   "source": [
    "# HW 1: Investigating the SARS-nCoV-2 Genome\n",
    "This is your first set of coding excrecises. Please submit the modified file as your completed homework. Name the file firstname_lastname-HW1.ipynb\n",
    "\n",
    "\n",
    "The accompanying file entitled MT118835.1 is the raw text of one of the first sequenced genomes of the SARS-nCoV-2 in California. This particular isolate was found in Solano county outside of San Francisco. \n",
    "\n",
    "*Please remember to comment your code so that we can see how you were thinking about the excercises and give partial credit if your answers are not exactly correct*\n",
    "\n",
    "To load the file put it into your current directory. Which is the same one that you have this script saved into. "
   ]
  },
  {
   "cell_type": "code",
   "execution_count": 102,
   "metadata": {},
   "outputs": [],
   "source": [
    "#Load the genome\n",
    "filename = \"MT118835.1\"\n",
    "\n",
    "coronaGenome = open(filename).read()"
   ]
  },
  {
   "cell_type": "markdown",
   "metadata": {},
   "source": [
    "## Excercise 1: Transcription\n",
    "\n",
    "Create a function called `dna2rna` that takes the `coronaGenome` and converts all of the `t` into `u`. This function is converting DNA into RNA and more accurately represents the genome of the corona virus since it has an RNA-based genome. Save the output of the function into a new variable called `coronaRNAgenome`.\n",
    "\n"
   ]
  },
  {
   "cell_type": "code",
   "execution_count": 103,
   "metadata": {},
   "outputs": [],
   "source": [
    "def dna2rna(dna):\n",
    "    dna = dna.upper()\n",
    "    rna = dna.replace('T', 'U')\n",
    "    return rna\n",
    "\n",
    "coronaRNAgenome = dna2rna(coronaGenome)"
   ]
  },
  {
   "cell_type": "markdown",
   "metadata": {},
   "source": [
    "## Excercise 2: Pattern Matching\n",
    "Make a second function that has two arguments. One is `coronaGenome` and the second is an sequence of RNA called `query` that the user can decide on. Have the function return the number of instances of that string. How many instances are their of 'auguacg', 'auguac', 'augua', 'augu', 'aug', 'au', and 'a'?\n"
   ]
  },
  {
   "cell_type": "code",
   "execution_count": 104,
   "metadata": {},
   "outputs": [],
   "source": [
    "def num_instances(coronaGenome, query):\n",
    "    if(isinstance(coronaGenome, (str))):\n",
    "        cnt = coronaGenome.count(query)\n",
    "        return cnt\n",
    "    else: \n",
    "        raise ValueError(\"Invalid 'coronaGenome' argument\\ncoronaGenome must be a string\")"
   ]
  },
  {
   "cell_type": "markdown",
   "metadata": {},
   "source": [
    "## Excercise 3: Mutation\n",
    "\n",
    "Now let's simulate the process of mutation. This is a random process so we are going to have to bring in python's random number generator. \n",
    "\n",
    "In the cell below, use the `rd.choice` function to pick a random base from the four possibilities 'a','u','c','g'"
   ]
  },
  {
   "cell_type": "code",
   "execution_count": 105,
   "metadata": {},
   "outputs": [
    {
     "data": {
      "text/plain": [
       "'U'"
      ]
     },
     "execution_count": 105,
     "metadata": {},
     "output_type": "execute_result"
    }
   ],
   "source": [
    "import random as rd\n",
    "\n",
    "rd.choice([\"A\", \"U\", \"C\", \"G\"])"
   ]
  },
  {
   "cell_type": "markdown",
   "metadata": {},
   "source": [
    "Next create a function called `mutate` that iterates through every base of the `coronaRNAgenome` and depending on a second parameter called `mutationRate` uses the `rd.choice` function to randomly change a base pair. HIV has a mutation rate of 10^-3 mutations per base pair per replication cycle whearas covid-19 is has been estimated to be closer to 10^-4 to 10^-5 mut/bp/cycle. \n",
    "\n",
    "HINT: One possible implimentation could use the following line:\n",
    "`if rd.random() > mutationRate:`\n",
    "This line will most likely be paired with an `else` statement."
   ]
  },
  {
   "cell_type": "code",
   "execution_count": 106,
   "metadata": {},
   "outputs": [],
   "source": [
    "def mutate(coronaRNAgenome, mutationRate):\n",
    "    corona_lst = list(coronaRNAgenome)\n",
    "    for idx, val in enumerate(corona_lst):\n",
    "        if rd.random() > mutationRate:\n",
    "            continue\n",
    "        else:\n",
    "            ran_bp = rd.choice([\"A\", \"U\", \"C\", \"G\"])\n",
    "            corona_lst[idx] = ran_bp\n",
    "    corona_lst = ''.join(corona_lst)\n",
    "    return corona_lst"
   ]
  },
  {
   "cell_type": "markdown",
   "metadata": {},
   "source": [
    "## Excercise 4: Translation and the Spike\n",
    "\n",
    "Finally, in order for the coronavirus to manipulate the cells in our bodies parts of its RNA genome must be translated into protein.\n",
    "\n",
    "Build a function called `RNA2Protein()` that translates any sequence of RNA to protein using the codon table.\n"
   ]
  },
  {
   "cell_type": "code",
   "execution_count": 107,
   "metadata": {},
   "outputs": [],
   "source": [
    "def RNA2Protein(RNAgenome):\n",
    "    codon_tbl = {\n",
    "    'UCA': 'S',\n",
    "    'UCC': 'S',\n",
    "    'UCG': 'S',\n",
    "    'UCU': 'S',\n",
    "    'UUC': 'F',\n",
    "    'UUU': 'F',\n",
    "    'UUA': 'L',\n",
    "    'UUG': 'L',\n",
    "    'UAC': 'Y',\n",
    "    'UAU': 'Y',\n",
    "    'UAA': 'STOP',\n",
    "    'UAG': 'STOP',\n",
    "    'UGC': 'C',\n",
    "    'UGU': 'C',\n",
    "    'UGA': 'STOP',\n",
    "    'UGG': 'W',\n",
    "    'CUA': 'L',\n",
    "    'CUC': 'L',\n",
    "    'CUG': 'L',\n",
    "    'CUU': 'L',\n",
    "    'CCA': 'P',\n",
    "    'CCC': 'P',\n",
    "    'CCG': 'P',\n",
    "    'CCU': 'P',\n",
    "    'CAC': 'H',\n",
    "    'CAU': 'H',\n",
    "    'CAA': 'Q',\n",
    "    'CAG': 'Q',\n",
    "    'CGA': 'R',\n",
    "    'CGC': 'R',\n",
    "    'CGG': 'R',\n",
    "    'CGU': 'R',\n",
    "    'AUA': 'I',\n",
    "    'AUC': 'I',\n",
    "    'AUU': 'I',\n",
    "    'AUG': 'M',\n",
    "    'ACA': 'T',\n",
    "    'ACC': 'T',\n",
    "    'ACG': 'T',\n",
    "    'ACU': 'T',\n",
    "    'AAC': 'N',\n",
    "    'AAU': 'N',\n",
    "    'AAA': 'K',\n",
    "    'AAG': 'K',\n",
    "    'AGC': 'S',\n",
    "    'AGU': 'S',\n",
    "    'AGA': 'R',\n",
    "    'AGG': 'R',\n",
    "    'GUA': 'V',\n",
    "    'GUC': 'V',\n",
    "    'GUG': 'V',\n",
    "    'GUU': 'V',\n",
    "    'GCA': 'A',\n",
    "    'GCC': 'A',\n",
    "    'GCG': 'A',\n",
    "    'GCU': 'A',\n",
    "    'GAC': 'D',\n",
    "    'GAU': 'D',\n",
    "    'GAA': 'E',\n",
    "    'GAG': 'E',\n",
    "    'GGA': 'G',\n",
    "    'GGC': 'G',\n",
    "    'GGG': 'G',\n",
    "    'GGU': 'G'\n",
    "}\n",
    "    coronaRNA = list(RNAgenome)\n",
    "    protein_str = ''\n",
    "    for i in range(0, len(RNAgenome), 3):\n",
    "        protein_str += codon_tbl[RNAgenome[i:(i + 3)]]\n",
    "    return protein_str"
   ]
  },
  {
   "cell_type": "markdown",
   "metadata": {},
   "source": [
    "Using the two functions that you have created, transcribe and then translate the Spike which is located here: `coronaGenome[21601:25390]`  \n",
    "A mutation of codon 614 from aspartic acid (D), which has a strong negative charge, to glycine (G), which has no side chain. This change enhances transmission and swept the world population of sequenced genomes by May 2020.  \n",
    "Does the isolate we are analyzing here have the D or G at this position?"
   ]
  },
  {
   "cell_type": "code",
   "execution_count": 108,
   "metadata": {},
   "outputs": [],
   "source": [
    "spikeRNAsegment = dna2rna(coronaGenome[21600:21630])\n",
    "spikeProtein = RNA2Protein(spikeRNAsegment)"
   ]
  },
  {
   "cell_type": "markdown",
   "metadata": {},
   "source": [
    "## Excercise 5: Open Reading frames\n",
    "\n",
    "A standard function in genome annotation is one that identifies all open reading frames in a sequence of interest. Write a function called 'ReturnReadingFrame()' to locate and return the start and end index of all ORFs and what frame they are in. Corona viruses are single stranded RNA viruses so there is no translation from the \"bottom strand.\" \n",
    "\n",
    "Evaluate the corona genome sequence with this function and return the potential peptides greater than 10AA in length. Please comment on what strategies you could incorpoarate to increase the likelihood of returning only the peptides that are actually translated. \n",
    "\n",
    "If you are unsure where to start, https://en.wikipedia.org/wiki/Open_reading_frame should provide you with a good place to start"
   ]
  },
  {
   "cell_type": "code",
   "execution_count": 5,
   "metadata": {},
   "outputs": [],
   "source": [
    "def ReturnReadingFrame(DNAgenome):\n",
    "\n",
    "    DNAgenome = DNAgenome.upper()\n",
    "    RNAgenome = DNAgenome.replace('T', 'U')\n",
    "    start_lst = [i for i in range(len(RNAgenome)) if RNAgenome.startswith('AUG', i)]\n",
    "\n",
    "    start_stop_dict = {}\n",
    "\n",
    "    for idx, val in enumerate(start_lst):\n",
    "\n",
    "        stop_lst = []\n",
    "\n",
    "        stop1 = RNAgenome[val:].find('UAG')\n",
    "        stop2 = RNAgenome[val:].find('UAA')\n",
    "        stop3 = RNAgenome[val:].find('UGA')\n",
    "\n",
    "        stop_lst = [stop1, stop2, stop3]\n",
    "        \n",
    "        \n",
    "        smallest_pos_stop = []\n",
    "\n",
    "        for i in stop_lst:\n",
    "\n",
    "            if i > 0:\n",
    "                smallest_pos_stop.append(i)\n",
    "\n",
    "        smallest_pos_stop = min(smallest_pos_stop)\n",
    "        if (smallest_pos_stop + val - 1) - val > 10:\n",
    "            start_stop_dict[val] = smallest_pos_stop + val - 1\n",
    "            print(f'ORF1: {val} to {smallest_pos_stop + val - 1}')    \n",
    "        else:\n",
    "            continue\n",
    "\n",
    "    return start_stop_dict\n"
   ]
  },
  {
   "cell_type": "markdown",
   "metadata": {},
   "source": [
    "## Excercise 6: Extra Credit (Not optional for 272)\n",
    "\n",
    "Read through this [paper](https://www.biorxiv.org/content/10.1101/2022.10.18.512756v1.full.pdf) which claims to have evidence to support the lab leak theory based on the spacing and frequency of BsaI 'GGTCTC' and BsmBI 'CGTCTC' restriction sites used for [Golden Gate Assembly](https://www.neb.com/applications/cloning-and-synthetic-biology/dna-assembly-and-cloning/golden-gate-assembly).\n",
    "\n",
    "Using the following python function and ones that you have developed in the previous excercises generate 1000 random sequences. Calculate the number and size of BsaI 'GGTCTC' and BsmBI 'CGTCTC' generated fragments. Compare the distribution of sizes and number to the size and number of the COVID genome. How unlikely is it to get the distribution we have? Does this support the lab leak theory? \n",
    "\n",
    "```\n",
    "    import random\n",
    "\n",
    "    def generate_random_dna(length):\n",
    "        nucleotides = ['A', 'C', 'G', 'T']\n",
    "        return ''.join(random.choice(nucleotides) for _ in range(length))\n",
    "```\n",
    "\n",
    "\n"
   ]
  },
  {
   "cell_type": "code",
   "execution_count": null,
   "metadata": {},
   "outputs": [],
   "source": []
  },
  {
   "cell_type": "markdown",
   "metadata": {},
   "source": [
    "Include who you worked with here: <br />\n",
    "1)   <br />\n",
    "2)   <br />\n",
    "3)   <br />\n"
   ]
  },
  {
   "cell_type": "code",
   "execution_count": null,
   "metadata": {},
   "outputs": [],
   "source": []
  }
 ],
 "metadata": {
  "kernelspec": {
   "display_name": "Python 3.10.5 64-bit",
   "language": "python",
   "name": "python3"
  },
  "language_info": {
   "codemirror_mode": {
    "name": "ipython",
    "version": 3
   },
   "file_extension": ".py",
   "mimetype": "text/x-python",
   "name": "python",
   "nbconvert_exporter": "python",
   "pygments_lexer": "ipython3",
   "version": "3.10.5"
  },
  "vscode": {
   "interpreter": {
    "hash": "aee8b7b246df8f9039afb4144a1f6fd8d2ca17a180786b69acc140d282b71a49"
   }
  }
 },
 "nbformat": 4,
 "nbformat_minor": 4
}
