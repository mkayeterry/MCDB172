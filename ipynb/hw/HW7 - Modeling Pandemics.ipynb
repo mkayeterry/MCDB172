{
 "cells": [
  {
   "cell_type": "markdown",
   "metadata": {},
   "source": [
    "# HW7 - Modeling Pandemics\n",
    "Submit as *firstname_lastname-HW7.ipynb*"
   ]
  },
  {
   "cell_type": "markdown",
   "metadata": {},
   "source": [
    "### Question 1\n",
    "Immunological memory does indeed degrade over time. Recall from the lectures that we can model imperfect immunity using the following two equations\n",
    "\n",
    "$$\\dot{I} = \\alpha I S - \\frac{I}{\\tau_{inf}}$$\n",
    "$$\\dot{S} = -\\alpha I S + \\frac{N - I - S}{\\tau_{imm}}$$\n",
    "\n",
    "The S-nullcline is a set of points in the phase plane where $\\dot{S} = 0$. Geometrically speaking, these are the\n",
    "points where the vectors point directly towards or away from the S-axis (horizontal in our example). Algebraically, we find the S-nullcline by solving $\\dot{S} = 0$. \n",
    "\n",
    "Find the I and S nullclines. Define a python function for them and plot them on top of a quiver plot representing phase space. \n",
    "Use $\\alpha = 0.4$, $\\tau_{inf} = 0.1$, $\\tau_{imm} = 3$. Plot phase space from 0 to 100 for $\\dot{S}$ and $\\dot{I}$ axes. \n"
   ]
  },
  {
   "cell_type": "code",
   "execution_count": 26,
   "metadata": {},
   "outputs": [
    {
     "ename": "ValueError",
     "evalue": "operands could not be broadcast together with shapes (1000,) (100,) ",
     "output_type": "error",
     "traceback": [
      "\u001b[0;31m---------------------------------------------------------------------------\u001b[0m",
      "\u001b[0;31mValueError\u001b[0m                                Traceback (most recent call last)",
      "Cell \u001b[0;32mIn [26], line 78\u001b[0m\n\u001b[1;32m     75\u001b[0m v \u001b[39m/\u001b[39m\u001b[39m=\u001b[39m M\n\u001b[1;32m     77\u001b[0m Inullcline \u001b[39m=\u001b[39m I_nullcline(state[:,\u001b[39m0\u001b[39m])\u001b[39m*\u001b[39mnp\u001b[39m.\u001b[39mones(state[:,\u001b[39m0\u001b[39m]\u001b[39m.\u001b[39mshape)\n\u001b[0;32m---> 78\u001b[0m Snullcline \u001b[39m=\u001b[39m S_nullcline(state[:,\u001b[39m1\u001b[39;49m])\u001b[39m*\u001b[39;49mnp\u001b[39m.\u001b[39;49mones(\u001b[39m100\u001b[39;49m)\n\u001b[1;32m     80\u001b[0m plt\u001b[39m.\u001b[39mquiver(H1, H2, u, v, color \u001b[39m=\u001b[39m \u001b[39m'\u001b[39m\u001b[39mred\u001b[39m\u001b[39m'\u001b[39m)\n\u001b[1;32m     81\u001b[0m plt\u001b[39m.\u001b[39mxlabel(\u001b[39m'\u001b[39m\u001b[39mInfected Indiviuals\u001b[39m\u001b[39m'\u001b[39m, fontsize \u001b[39m=\u001b[39m\u001b[39m15\u001b[39m)\n",
      "\u001b[0;31mValueError\u001b[0m: operands could not be broadcast together with shapes (1000,) (100,) "
     ]
    }
   ],
   "source": [
    "import numpy as np\n",
    "import matplotlib.pyplot as plt\n",
    "from scipy.integrate import odeint\n",
    "\n",
    "def ImperfectImmunity(state, t):\n",
    "    I = state[0]\n",
    "    S = state[1]\n",
    "\n",
    "    # define system with imperfect immunity\n",
    "    dIdt = alpha * I * S - I/tau_inf\n",
    "    R = N - I - S \n",
    "    dSdt = -alpha * I * S + R/tau_imm \n",
    "\n",
    "    return(dIdt, dSdt)\n",
    "\n",
    "def Rt(N, It, St):\n",
    "    Nvec = N * np.ones(St.shape)\n",
    "    return (Nvec - St - It)\n",
    "\n",
    "def I_nullcline(S):\n",
    "    return 1/(tau_inf * alpha)\n",
    "\n",
    "def S_nullcline(I):\n",
    "    return (N - I)/(alpha * I * tau_imm) - 1/alpha\n",
    "\n",
    "alpha = 0.4\n",
    "tau_inf = 0.1\n",
    "tau_imm = 3\n",
    "\n",
    "state0 = [1,100]\n",
    "\n",
    "N = np.sum(state0)\n",
    "t = np.linspace(0, 10, 1000)\n",
    "\n",
    "state = odeint(ImperfectImmunity, state0, t)\n",
    "\n",
    "# plotting a phase diagram\n",
    "\n",
    "Ilim = [0, 100]\n",
    "Slim = [0, 100]\n",
    "\n",
    "npoints = 30 # pick the resolution of our phase portrait\n",
    "\n",
    "# set up meshgrid function for evaluating the dynamics at many states\n",
    "h1 = np.linspace(Ilim[0], Ilim[1], npoints)\n",
    "h2 = np.linspace(Ilim[0], Ilim[1], npoints)\n",
    "\n",
    "# generate meshgrid\n",
    "H1, H2 = np.meshgrid(h1, h2)\n",
    "\n",
    "u, v = np.zeros(H1.shape), np.zeros(H2.shape)\n",
    "\n",
    "NJ, NK = H1.shape\n",
    "\n",
    "# two nested for loops to evaluate the dynamics on the meshgrid\n",
    "for j in range(NJ):\n",
    "    for k in range(NK):\n",
    "\n",
    "        Istate = H1[j, k]\n",
    "        Sstate = H2[j, k]\n",
    "\n",
    "        statejk = [Istate, Sstate]\n",
    "\n",
    "        # call differential equation to calc system velocity\n",
    "        ISdot = ImperfectImmunity(statejk, [])\n",
    "\n",
    "        u[j,k] = ISdot[0]\n",
    "        v[j,k] = ISdot[1]\n",
    "\n",
    "\n",
    "# normalize vector lengths by the hypoteneuse\n",
    "M = (np.hypot(u,v))\n",
    "M[M==0] = 1.\n",
    "u /= M\n",
    "v /= M\n",
    "\n",
    "Inullcline = I_nullcline(state[:,0])*np.ones(100)\n",
    "Snullcline = S_nullcline(state[:,1])*np.ones(100)\n",
    "\n",
    "plt.quiver(H1, H2, u, v, color = 'red')\n",
    "plt.xlabel('Infected Indiviuals', fontsize =15)\n",
    "plt.ylabel('Susceptible Indiviuals', fontsize =15)\n",
    "plt.plot(state[:,0], state[:,1], linewidth = 5)\n",
    "plt.plot(np.linspace(0, 100, 100), Inullcline, linewidth = 5, label = 'I Nullcline')\n",
    "plt.plot(np.linspace(0, 100, 100), Snullcline, linewidth = 5, label = 'S Nullcline')\n",
    "plt.legend(loc = 'upper right')\n",
    "plt.ylim((0,100))\n",
    "plt.xlim((0,100))\n"
   ]
  },
  {
   "cell_type": "code",
   "execution_count": null,
   "metadata": {},
   "outputs": [],
   "source": [
    "\n"
   ]
  },
  {
   "cell_type": "markdown",
   "metadata": {},
   "source": [
    "## Question 2.1 - Seasonal Variation\n",
    "\n",
    "There are many extensions of this model to capture important relevant dynamics.\n",
    "One important class deals with the seasonal variation in the transmission rate parameter $\\alpha$. For example, in the 1918 spanish flu there was a decrease in susceptibility in the summer followed by an increase in susceptibility in the fall which created large spikes in infected individuals. This could also represent scientifically ignorant politicians making, what they think are politically expedient decisions, by bringing people back to work too early. \n",
    "\n",
    "These variations can be modeled by placing the fixed parameter $\\alpha$ with a *forcing function* $\\alpha(t)$.\n",
    "Let's compare these variations and see how time-varying $\\alpha(t)$ effects the dynamics of $I$. \n",
    "\n",
    "* Plot the I, S, and R as a function of t over `t = np.linspace(0,10,1000)` using the following parameters:\n"
   ]
  },
  {
   "cell_type": "code",
   "execution_count": null,
   "metadata": {},
   "outputs": [],
   "source": [
    "a = .4\n",
    "tau = .1\n",
    "tau2 = 3\n",
    "state0 = [1,99]\n",
    "N = np.sum(state0)"
   ]
  },
  {
   "cell_type": "markdown",
   "metadata": {},
   "source": [
    "## Question 2.2 - Seasonal Variation\n",
    "To implement $\\alpha(t)$ make a new function bearing the differential equations but this time with $\\alpha = $ `a*(sin(t)+1)`. Make sure you replace all instances of $\\alpha$.\n",
    "\n",
    "* Plot it with the exact same parameters as above. Describe what happens in a markdown cell below. Although you can't plot the phase portrait using a static graph, imagine that it is shifting with shifting $\\alpha$. What is the I-nullcline doing?\n"
   ]
  },
  {
   "cell_type": "code",
   "execution_count": null,
   "metadata": {},
   "outputs": [],
   "source": []
  },
  {
   "cell_type": "markdown",
   "metadata": {},
   "source": [
    "## Question 2.3 - The Effect of Frequency\n",
    "If the period of $\\alpha(t)$'s oscillations is fast relative to the timescale of the SIR dynamics then there are small outbreaks and $S$ remains close to $N$. If the period is slower then $I$ can get higher. \n",
    "\n",
    "Examine this by doing the following:\n",
    "\n",
    "* Build a for loop and run the simulation over a range of sinusoidal frequencies from `freqs = pi*np.array([.25,.5,1,2,4])`\n",
    "\n",
    "* Sum the total number of Infected individuals and plot them as a function of frequency. What is the frequency that gives the greates integrated number of infections?\n"
   ]
  },
  {
   "cell_type": "code",
   "execution_count": null,
   "metadata": {},
   "outputs": [],
   "source": []
  },
  {
   "cell_type": "markdown",
   "metadata": {},
   "source": [
    "## Question 2.4 - Extra Credit\n",
    "Investigate non-sinusoidal oscillations. Which waveforms engender the worst epidemics?"
   ]
  },
  {
   "cell_type": "code",
   "execution_count": null,
   "metadata": {},
   "outputs": [],
   "source": []
  },
  {
   "cell_type": "markdown",
   "metadata": {},
   "source": [
    "## Question 3 - Latency\n",
    "\n",
    "In many diseases, some amount of time passes between being infected and being able to pass the virus to others. This period is called a *latent period*. To capture this we can add a third state variable to our imperfect immunity model described in Question 1, lets call it $X$, which keeps track of exposed individuals. \n",
    "\n",
    "* Create a function with expressing these differential equations, where there is a third timescale parameter, $\\tau_{lat}$\n",
    "* Simulate and plot the 3 quantities as a function of time starting with 1 infected individual, 99 susceptible, and 0 exposed. \n",
    "* The non-trivial equilibrium point $(I, X, S) = (0, 0, N)$ is unstable. What are the coordinates of the *endemic equilibrium point*? (Show you work as an attached photo if necessary).\n",
    "\n"
   ]
  },
  {
   "cell_type": "code",
   "execution_count": null,
   "metadata": {},
   "outputs": [],
   "source": []
  },
  {
   "cell_type": "markdown",
   "metadata": {},
   "source": [
    "## Question 3 - Extra Credit\n",
    "* The phase space is now in 3D and the nullclines are now planes through that space. \n",
    "* Solve for the nullclines. Plot them and plot a cube of vectors representing phase space. "
   ]
  },
  {
   "cell_type": "code",
   "execution_count": null,
   "metadata": {},
   "outputs": [],
   "source": []
  },
  {
   "cell_type": "markdown",
   "metadata": {},
   "source": [
    "## Question 4 - Thinking about your final assignment.\n",
    "\n",
    "For the final assignment I would like you to find a mathematical model representing any aspect of a biological system, attempt to reproduce it in python and the results, and use it to ask a new scientifically relevant question. You (and your team) will submit a single python notebook as well as a written report of your findings. If the paper has already used python then it will not be allowed. \n",
    "\n",
    "* Please tell me who you plan to work with and submit the titles and links to 3 scientific papers that you are interested in exploring for this assignment. "
   ]
  },
  {
   "cell_type": "code",
   "execution_count": null,
   "metadata": {},
   "outputs": [],
   "source": []
  }
 ],
 "metadata": {
  "kernelspec": {
   "display_name": "Python 3.10.5 64-bit",
   "language": "python",
   "name": "python3"
  },
  "language_info": {
   "codemirror_mode": {
    "name": "ipython",
    "version": 3
   },
   "file_extension": ".py",
   "mimetype": "text/x-python",
   "name": "python",
   "nbconvert_exporter": "python",
   "pygments_lexer": "ipython3",
   "version": "3.10.5"
  },
  "vscode": {
   "interpreter": {
    "hash": "aee8b7b246df8f9039afb4144a1f6fd8d2ca17a180786b69acc140d282b71a49"
   }
  }
 },
 "nbformat": 4,
 "nbformat_minor": 4
}
