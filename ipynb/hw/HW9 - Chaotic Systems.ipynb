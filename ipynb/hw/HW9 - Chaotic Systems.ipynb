{
 "cells": [
  {
   "cell_type": "markdown",
   "metadata": {},
   "source": [
    "# HW 9 - Investigating Chaotic systems with python\n"
   ]
  },
  {
   "cell_type": "markdown",
   "metadata": {},
   "source": [
    "## Excercise 1\n",
    "\n",
    "Recall the Holling-Tanner Model of an ecological system\n",
    "\n",
    "*Plants*  \n",
    "$\\dot{x} = x(1-x) - \\frac{a_1x}{1+b_1x}y$  \n",
    "\n",
    "*Herbivores*  \n",
    "$\\dot{y} = \\frac{a_1x}{1+b_1x}y - d_1y-\\frac{a_2y}{1+b_2y}z$  \n",
    "\n",
    "*Carnivores*  \n",
    "$\\dot{z} = \\frac{a_2y}{1+b_2y}z - d_2z$\n",
    "\n",
    "\n",
    "Simulate these equations for at least two sets of initial conditions that are less than 1% apart using the following parameters  \n",
    "`a1 = 5`  \n",
    "`b1 = 3`  \n",
    "`a2 = 0.1`  \n",
    "`b2 = 2`  \n",
    "`d1 = 0.4`  \n",
    "`d2 = 0.01`  \n",
    "\n",
    "Plot the results as both a time series and trajectories. What eventually happens to the trajectories?"
   ]
  },
  {
   "cell_type": "code",
   "execution_count": 3,
   "metadata": {},
   "outputs": [
    {
     "data": {
      "image/png": "[encoded data removed]",
      "text/plain": [
       "<Figure size 640x480 with 1 Axes>"
      ]
     },
     "metadata": {},
     "output_type": "display_data"
    }
   ],
   "source": [
    "import numpy as np\n",
    "import matplotlib.pyplot as plt\n",
    "from scipy.integrate import odeint\n",
    "\n",
    "# Define Holling-Tanner system\n",
    "def HT(state, t0, a1 = 5, a2 = 0.1, b1 = 3, b2 = 2, d1 = 0.4, d2 = 0.01):\n",
    "\n",
    "    # unpack state variables\n",
    "    x = state[0]\n",
    "    y = state[1]\n",
    "    z = state[2]\n",
    "\n",
    "    # H-T equations\n",
    "    dxdt = x * (1 - x) - ((a1 * x)/(1 + (b1 * x))) * y\n",
    "    dydt = (((a1 * x)/(1 + (b1 * x))) * y) - (d1 * y) - ((a2 * y)/(1 + (b2 * y))) * z\n",
    "    dzdt = (((a2 * y)/(1 + (b2 * y))) * z) - (d2 * z)\n",
    "\n",
    "    return [dxdt, dydt, dzdt]\n",
    "\n",
    "N_trajectories = 2\n",
    "t = np.linspace(0, 20, 1000)\n",
    "initial_conditions = [10 + 0.01 * np.random.random(3) for i in range(N_trajectories)]\n",
    "states = []\n",
    "for i in range(N_trajectories):\n",
    "    state = odeint(HT, initial_conditions[i], t)\n",
    "    states.append(state)\n",
    "\n",
    "plt.plot(t, states[0][:, 0])\n",
    "plt.plot(t, states[1][:, 0])\n",
    "\n",
    "plt.legend(('Trajectory 1', 'Trajectory 2'))\n",
    "plt.xlabel('Time')\n",
    "plt.ylabel('x')\n",
    "plt.title('Holling-Tanner Model Over Time')\n",
    "plt.show()\n"
   ]
  },
  {
   "cell_type": "markdown",
   "metadata": {},
   "source": [
    "## Excercise 2\n",
    "Recall that the concept of \"sensitivity to initial conditions\" can be given a precise definition.\n",
    "\n",
    "Suppose $m_0$ and $n_0$ are two sets of initial conditions for the Holling-Tanner system and $d(m_0,n_0)$ is the distance between those points.\n",
    "\n",
    "In the Holling-Tanner system $m_0$ and $n_0$ are points in 3-dimensional space, so the distance between them can be calculated using the standard formula for Euclidean distance:\n",
    "\n",
    "$d(m,n) = \\sqrt{(x_m-x_n)^2+(y_m-y_n)^2+(z_m-z_n)^2}$\n",
    "\n",
    "After time $t$ the points $m_0$ and $n_0$ have been integrated to $m_t$ and $n_t$. Sensitivity dependance says that $d(m_t, n_t)$ grows exponentially with time with different levels of sensitivity being associated with different values of the lyapunov exponentn $\\lambda$, such that  \n",
    "\n",
    "$d(m_t, n_t) = e^{\\lambda t}d(m_0,n_0)$  \n",
    "\n",
    "Approximate the lyapunov exponent for the Holling-Tanner system using the parameters from Excercise 1. Show your work. "
   ]
  },
  {
   "cell_type": "code",
   "execution_count": null,
   "metadata": {},
   "outputs": [],
   "source": []
  },
  {
   "cell_type": "markdown",
   "metadata": {},
   "source": [
    "## Excercise 3\n",
    "\n",
    "Plot the Lorenz Map of the herbivores in the Holling-Tanner system using the abovementioned parameters.  \n",
    "\n",
    "What happens at an Nth peak height of ~0.29? What does it represent?\n",
    "\n"
   ]
  },
  {
   "cell_type": "code",
   "execution_count": null,
   "metadata": {},
   "outputs": [],
   "source": []
  },
  {
   "attachments": {},
   "cell_type": "markdown",
   "metadata": {},
   "source": [
    "## Excercise 4 (Extra Credit)\n",
    "Demonstrate and explain why chaos can only occur in a 3D system. \n",
    "Show what you would have to do to the FitzHugh Nagumo System to bring it into a chaotic regime.\n",
    "What are the tradeoffs between for an open system that must be functional (e.g. something in biology) in being almost but not quite chaotic as it approaches a parameter set that gives a lyapunov coefficient greater than 0."
   ]
  },
  {
   "cell_type": "code",
   "execution_count": null,
   "metadata": {},
   "outputs": [],
   "source": []
  },
  {
   "cell_type": "markdown",
   "metadata": {},
   "source": [
    "Who did you work with:"
   ]
  },
  {
   "cell_type": "code",
   "execution_count": null,
   "metadata": {},
   "outputs": [],
   "source": []
  }
 ],
 "metadata": {
  "kernelspec": {
   "display_name": "Python 3.10.5 64-bit",
   "language": "python",
   "name": "python3"
  },
  "language_info": {
   "codemirror_mode": {
    "name": "ipython",
    "version": 3
   },
   "file_extension": ".py",
   "mimetype": "text/x-python",
   "name": "python",
   "nbconvert_exporter": "python",
   "pygments_lexer": "ipython3",
   "version": "3.10.5"
  },
  "vscode": {
   "interpreter": {
    "hash": "aee8b7b246df8f9039afb4144a1f6fd8d2ca17a180786b69acc140d282b71a49"
   }
  }
 },
 "nbformat": 4,
 "nbformat_minor": 4
}
