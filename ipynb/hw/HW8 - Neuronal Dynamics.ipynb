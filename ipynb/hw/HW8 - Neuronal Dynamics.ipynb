{
 "cells": [
  {
   "cell_type": "markdown",
   "metadata": {},
   "source": [
    "# HW8 - Neuronal Dynamics (Oscillating Systems)"
   ]
  },
  {
   "cell_type": "markdown",
   "metadata": {},
   "source": [
    "This week we learned about the FitzHugh Nagumo model of a neuron described by the following equations:\n",
    "\n",
    "$$\\dot{v} = -v(v-a)(v-1)-w $$\n",
    "$$\\dot{w} = \\epsilon (v - \\gamma w)$$\n",
    "\n",
    "## Question 1\n",
    "\n",
    "Solve for the v and w nullclines, define them as functions, and plot them for $\\gamma = 2$ and $\\gamma = 8$. Use $\\epsilon = 0.01$ and $a = 0.1$. Make sure that the X and Y limits of your plots show all relavant dynamics.\n",
    "\n"
   ]
  },
  {
   "cell_type": "code",
   "execution_count": null,
   "metadata": {},
   "outputs": [],
   "source": []
  },
  {
   "cell_type": "markdown",
   "metadata": {},
   "source": [
    "## Question 2\n",
    "\n",
    "Plot the phase portraits for both of the $\\gamma$ parameter values. \n",
    "How has the phase flow changed by changing $\\gamma$? What happens to the set of possible state trajectories when $\\gamma$ becomes large?\n"
   ]
  },
  {
   "cell_type": "code",
   "execution_count": null,
   "metadata": {},
   "outputs": [],
   "source": []
  },
  {
   "cell_type": "markdown",
   "metadata": {},
   "source": [
    "## Question 3\n",
    "Numerically integrate the FH equations with the addition of a step impulse.\n",
    "\n",
    "To add a step impulse to this simulation consider that an outside change in the current $I(t)$ that effect the $\\dot{v}$ so that\n",
    "\n",
    "$$\\dot{v} = -v(v-a)(v-1)-w + I(t)$$\n",
    "$$\\dot{w} = \\epsilon (v - \\gamma w)$$\n",
    "\n",
    "\n",
    "* Define a new function of the FN equations with a forcing function `input(Ton,q)` where $I(t) = 0$ until `Ton` whereafter $I(t) = q$\n",
    "* Simulate a sudden increase in I. Plot $v(t)$ and $w(t)$. What happens to the neuron?\n",
    "* Determine the minimum value of $I$ that causes full spiking to 1 significant digit by trying different input amplitudes. \n",
    "* What is the lowest step current amplitude to 1 sig fig to generate **repetitive firing**?"
   ]
  },
  {
   "cell_type": "code",
   "execution_count": null,
   "metadata": {},
   "outputs": [],
   "source": []
  },
  {
   "cell_type": "markdown",
   "metadata": {},
   "source": [
    "## Question 4 - EXTRA CREDIT (not optional for grads)\n",
    "\n",
    "Below is a more realistic simulation of a neuron from the famous Hodgkin and Huxley model. While it is more accurate it is less mathematically tractable and thus requires more simulation to get intuition. I have implemented the model with real parameters, ie. they represent real concentrations and voltages.\n",
    "\n",
    "Here we will use a dictionary to store and alter parameter values. This maintains readability in a rather unwieldy model. Use the following line of code to change the injected voltage:\n",
    "`params['E_params']['I_ext'] = 1.0e-11`\n",
    "\n",
    "1) Simulate the neuron so that it only has leakage current and external current. In other words, comment out the terms for sodium and potassium channels. Run a simulation with an initial membrane potential of -70mv and an external current of 0mv. What happens and why?\n",
    "\n",
    "2) Change the external current to 1e-10 and re-run the simulation. What happens and why?\n",
    "\n",
    "3) Add back the sodium channel terms (activation and deactivation). Run a simulation with external current 1e-10 and initial states `[-70e-03, 0, 1]`. What happens and why?\n",
    "\n",
    "4) Add back terms related to the potassium channel. Run a simulation with external current 1e-10 and initial states `[-70e-03, 0, 1, 0]`. What happens and why?\n",
    "\n",
    "5) What is the effect of external current on neuronal firing behavior? What voltages cause full firing, and repetitive firing. Is there a minimum voltage? Plot the membrane voltage as a function of time to show that this is true. "
   ]
  },
  {
   "cell_type": "code",
   "execution_count": 3,
   "metadata": {},
   "outputs": [
    {
     "name": "stdout",
     "output_type": "stream",
     "text": [
      "-0.07\n",
      "4.0\n"
     ]
    }
   ],
   "source": [
    "# set up a dictionary of parameters so that we can index by name\n",
    "\n",
    "import numpy as np\n",
    "from scipy.integrate import odeint\n",
    "import scipy as sp\n",
    "import matplotlib.pyplot as plt\n",
    "import math as m\n",
    "\n",
    "\n",
    "\n",
    "E_params = {\n",
    "        'E_leak' : -7.0e-2,\n",
    "        'G_leak' : 3.0e-09,\n",
    "        'C_m'    : 3.0e-11,\n",
    "        'I_ext'  : 1.0e-2\n",
    "}\n",
    "\n",
    "Na_params = {\n",
    "        'Na_E'          : 5.0e-2,\n",
    "        'Na_G'          : 1.0e-6,\n",
    "        'k_Na_act'      : 3.0e+0,\n",
    "        'A_alpha_m_act' : 2.0e+5,\n",
    "        'B_alpha_m_act' : -4.0e-2,\n",
    "        'C_alpha_m_act' : 1.0e-3,\n",
    "        'A_beta_m_act'  : 6.0e+4,\n",
    "        'B_beta_m_act'  : -4.9e-2,\n",
    "        'C_beta_m_act'  : 2.0e-2,\n",
    "        'l_Na_inact'    : 1.0e+0,\n",
    "        'A_alpha_m_inact' : 8.0e+4,\n",
    "        'B_alpha_m_inact' : -4.0e-2,\n",
    "        'C_alpha_m_inact' : 1.0e-3,\n",
    "        'A_beta_m_inact'  : 4.0e+2,\n",
    "        'B_beta_m_inact'  : -3.6e-2,\n",
    "        'C_beta_m_inact'  : 2.0e-3\n",
    "}\n",
    "\n",
    "K_params = {\n",
    "        'k_E'           : -9.0e-2,\n",
    "        'k_G'           : 2.0e-7,\n",
    "        'k_K'           : 4.0e+0,\n",
    "        'A_alpha_m_act' : 2.0e+4,\n",
    "        'B_alpha_m_act' : -3.1e-2,\n",
    "        'C_alpha_m_act' : 8.0e-4,\n",
    "        'A_beta_m_act'  : 5.0e+3,\n",
    "        'B_beta_m_act'  : -2.8e-2,\n",
    "        'C_beta_m_act'  : 4.0e-4\n",
    "}\n",
    "\n",
    "params = {\n",
    "        'E_params'  : E_params,\n",
    "        'Na_params' : Na_params,\n",
    "        'K_params'  : K_params\n",
    "}\n",
    "\n",
    "#Example of how to index the dicts\n",
    "print(E_params['E_leak'])\n",
    "print(K_params['k_K'])\n",
    "\n",
    "\n",
    "def neuron(state, t, params):\n",
    "        \"\"\"\n",
    "         Purpose: simulate Hodgkin and Huxley model for the action potential using\n",
    "         the equations from Ekeberg et al, Biol Cyb, 1991.\n",
    "         Input: state ([E m h n] (ie [membrane potential; activation of\n",
    "                  Na++ channel; inactivation of Na++ channel; activation of K+\n",
    "                  channel]),\n",
    "                t (time),\n",
    "                and the params (parameters of neuron; see Ekeberg et al).\n",
    "         Output: statep (state derivatives).\n",
    "        \"\"\"\n",
    "\n",
    "        E = state[0]\n",
    "        m = state[1]\n",
    "        h = state[2]\n",
    "        n = state[3]\n",
    "\n",
    "        Epar = params['E_params']\n",
    "        Na   = params['Na_params']\n",
    "        K    = params['K_params']\n",
    "\n",
    "        # external current (from \"voltage clamp\", other compartments, other neurons, etc)\n",
    "        I_ext = Epar['I_ext']\n",
    "\n",
    "        # calculate Na rate functions and I_Na\n",
    "        alpha_act = Na['A_alpha_m_act'] * (E-Na['B_alpha_m_act']) / (1.0 - np.exp((Na['B_alpha_m_act']-E) / Na['C_alpha_m_act']))\n",
    "        beta_act = Na['A_beta_m_act'] * (Na['B_beta_m_act']-E) / (1.0 - np.exp((E-Na['B_beta_m_act']) / Na['C_beta_m_act']) )\n",
    "        dmdt = ( alpha_act * (1.0 - m) ) - ( beta_act * m )\n",
    "\n",
    "        alpha_inact = Na['A_alpha_m_inact'] * (Na['B_alpha_m_inact']-E) / (1.0 - np.exp((E-Na['B_alpha_m_inact']) / Na['C_alpha_m_inact']))\n",
    "        beta_inact  = Na['A_beta_m_inact'] / (1.0 + (np.exp((Na['B_beta_m_inact']-E) / Na['C_beta_m_inact'])))\n",
    "        dhdt = ( alpha_inact*(1.0 - h) ) - ( beta_inact*h )\n",
    "\n",
    "        # Na-current:\n",
    "        I_Na =(Na['Na_E']-E) * Na['Na_G'] * (m**Na['k_Na_act']) * h\n",
    "\n",
    "        # calculate K rate functions and I_K\n",
    "        alpha_kal = K['A_alpha_m_act'] * (E-K['B_alpha_m_act']) / (1.0 - np.exp((K['B_alpha_m_act']-E) / K['C_alpha_m_act']))\n",
    "        beta_kal = K['A_beta_m_act'] * (K['B_beta_m_act']-E) / (1.0 - np.exp((E-K['B_beta_m_act']) / K['C_beta_m_act']))\n",
    "        dndt = ( alpha_kal*(1.0 - n) ) - ( beta_kal*n )\n",
    "        I_K = (K['k_E']-E) * K['k_G'] * n**K['k_K']\n",
    "\n",
    "        # leak current\n",
    "        I_leak = (Epar['E_leak']-E) * Epar['G_leak']\n",
    "\n",
    "        # calculate derivative of E\n",
    "        dEdt = (I_leak + I_K + I_Na + I_ext) / Epar['C_m']\n",
    "        statep = [dEdt, dmdt, dhdt, dndt]\n",
    "\n",
    "        return statep"
   ]
  },
  {
   "cell_type": "code",
   "execution_count": 14,
   "metadata": {},
   "outputs": [],
   "source": [
    "\n",
    "# set initial states and time vector\n",
    "state0 = [-70e-03, 0, 1, 0]\n",
    "t = np.arange(0, 0.2, 0.001)\n",
    "\n",
    "# let's inject some external current\n",
    "#params['E_params']['I_ext'] = #Enter parameter value here\n",
    "\n",
    "# run simulation\n",
    "state = odeint(neuron, state0, t, args=(params,))"
   ]
  },
  {
   "cell_type": "markdown",
   "metadata": {},
   "source": [
    "#### Who did you work with?\n"
   ]
  },
  {
   "cell_type": "code",
   "execution_count": null,
   "metadata": {},
   "outputs": [],
   "source": []
  }
 ],
 "metadata": {
  "kernelspec": {
   "display_name": "Python 3",
   "language": "python",
   "name": "python3"
  },
  "language_info": {
   "codemirror_mode": {
    "name": "ipython",
    "version": 3
   },
   "file_extension": ".py",
   "mimetype": "text/x-python",
   "name": "python",
   "nbconvert_exporter": "python",
   "pygments_lexer": "ipython3",
   "version": "3.7.6"
  }
 },
 "nbformat": 4,
 "nbformat_minor": 4
}
